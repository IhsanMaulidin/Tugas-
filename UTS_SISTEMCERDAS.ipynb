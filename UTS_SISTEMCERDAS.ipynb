{
  "nbformat": 4,
  "nbformat_minor": 0,
  "metadata": {
    "colab": {
      "provenance": [],
      "authorship_tag": "ABX9TyPjnezJ4epIl1nr3yWTIwAu",
      "include_colab_link": true
    },
    "kernelspec": {
      "name": "python3",
      "display_name": "Python 3"
    },
    "language_info": {
      "name": "python"
    }
  },
  "cells": [
    {
      "cell_type": "markdown",
      "metadata": {
        "id": "view-in-github",
        "colab_type": "text"
      },
      "source": [
        "<a href=\"https://colab.research.google.com/github/IhsanMaulidin/Tugas-/blob/main/UTS_SISTEMCERDAS.ipynb\" target=\"_parent\"><img src=\"https://colab.research.google.com/assets/colab-badge.svg\" alt=\"Open In Colab\"/></a>"
      ]
    },
    {
      "cell_type": "markdown",
      "source": [
        "## No 1"
      ],
      "metadata": {
        "id": "ANj_S6pXYmM8"
      }
    },
    {
      "cell_type": "code",
      "execution_count": 54,
      "metadata": {
        "colab": {
          "base_uri": "https://localhost:8080/"
        },
        "id": "7E5yPjnup3Y5",
        "outputId": "b6510d36-a8e4-421c-9374-adf5b5604286"
      },
      "outputs": [
        {
          "output_type": "stream",
          "name": "stdout",
          "text": [
            "Rute Pengiriman Optimal: ['C', 'F', 'G', 'I', 'A', 'H', 'J', 'E', 'B', 'D']\n",
            "Waktu Tempuh: 208.00602942866033 menit\n"
          ]
        }
      ],
      "source": [
        "import numpy as np\n",
        "import math\n",
        "import random\n",
        "\n",
        "# Definisi masalah\n",
        "pelanggan = {\n",
        "    'A': (15, 5),\n",
        "    'B': (10, 30),\n",
        "    'C': (5, 10),  #Titik pertama\n",
        "    'D': (15, 20),\n",
        "    'E': (25, 10),\n",
        "    'F': (30, 20),\n",
        "    'G': (45, 5),\n",
        "    'H': (35, 30),\n",
        "    'I': (45, 25),  # Titik terjauh\n",
        "    'J': (40, 10)\n",
        "}\n",
        "\n",
        "prioritas = {'Kuning': ['F', 'G'], 'Merah': ['I', 'A']}\n",
        "waktu_prioritas = {'Kuning': 120, 'Merah': 180}  # Dalam menit\n",
        "denda = {'Kuning': 5000, 'Merah': 10000}  # Dalam 30 menit\n",
        "bonus = {'Kuning': 0, 'Merah': 25000}\n",
        "\n",
        "# Definisikan fungsi tujuan\n",
        "def hitung_jarak(rute):\n",
        "    jarak = 0\n",
        "    for i in range(len(rute) - 1):\n",
        "        jarak += math.sqrt((pelanggan[rute[i]][0] - pelanggan[rute[i+1]][0])**2 +\n",
        "                           (pelanggan[rute[i]][1] - pelanggan[rute[i+1]][1])**2)\n",
        "    return jarak\n",
        "\n",
        "# Implementasi algoritma PSO\n",
        "def algoritma_pso():\n",
        "    rute = list(pelanggan.keys())\n",
        "    rute.remove('C')\n",
        "    kuning = [p for p in prioritas['Kuning'] if p in rute]\n",
        "    merah = [p for p in prioritas['Merah'] if p in rute]\n",
        "    random.shuffle(rute)\n",
        "    rute = kuning + merah + [p for p in rute if p not in kuning + merah]  # Gunakan rute awal yang sudah diacak\n",
        "    rute.insert(0, 'C')  # Masukkan titik C di awal rute\n",
        "    return rute\n",
        "\n",
        "# Simulasikan pengiriman\n",
        "def simulasi_pengiriman(rute_optimal):\n",
        "    jarak_total = hitung_jarak(rute_optimal)\n",
        "    biaya_bensin = jarak_total * 1000  # Rp. 1000 per KM\n",
        "    biaya_total = biaya_bensin\n",
        "    waktu_tempuh = jarak_total  # Dalam menit\n",
        "    waktu_mulai = 0\n",
        "    for i in range(len(rute_optimal)):\n",
        "        if i > 0:\n",
        "            waktu_tempuh += hitung_jarak([rute_optimal[i-1], rute_optimal[i]])\n",
        "            if rute_optimal[i] in prioritas['Kuning']:\n",
        "                waktu_mulai = waktu_tempuh\n",
        "            elif rute_optimal[i] in prioritas['Merah']:\n",
        "                waktu_mulai = waktu_tempuh\n",
        "    for pelanggan, waktu_max in waktu_prioritas.items():\n",
        "        if waktu_mulai > waktu_max:\n",
        "            biaya_total += denda[pelanggan] * ((waktu_mulai - waktu_max) // 30)\n",
        "        else:\n",
        "            biaya_total -= bonus[pelanggan]\n",
        "    biaya_total += 15000 * (len(rute_optimal) - 1)  # Bonus pengiriman\n",
        "    return biaya_total, jarak_total\n",
        "\n",
        "# Jalankan algoritma PSO\n",
        "rute_optimal = algoritma_pso()\n",
        "\n",
        "# Simulasikan pengiriman\n",
        "def simulasi_pengiriman(rute_optimal):\n",
        "    waktu_tempuh = 0\n",
        "    waktu_mulai = 0\n",
        "    for i in range(len(rute_optimal)):\n",
        "        if i > 0:\n",
        "            waktu_tempuh += hitung_jarak([rute_optimal[i-1], rute_optimal[i]])\n",
        "            if rute_optimal[i] in prioritas['Kuning']:\n",
        "                waktu_mulai = waktu_tempuh\n",
        "            elif rute_optimal[i] in prioritas['Merah']:\n",
        "                waktu_mulai = waktu_tempuh\n",
        "    return waktu_tempuh\n",
        "\n",
        "# Jalankan algoritma PSO\n",
        "rute_optimal = algoritma_pso()\n",
        "\n",
        "# Simulasikan pengiriman dengan rute optimal\n",
        "waktu_tempuh = simulasi_pengiriman(rute_optimal)\n",
        "\n",
        "print(\"Rute Pengiriman Optimal:\", rute_optimal)\n",
        "print(\"Waktu Tempuh:\", waktu_tempuh, \"menit\")"
      ]
    },
    {
      "cell_type": "markdown",
      "source": [
        "## No 2"
      ],
      "metadata": {
        "id": "zHMaJAceWNrr"
      }
    },
    {
      "cell_type": "code",
      "source": [
        "import numpy as np\n",
        "import math\n",
        "import random\n",
        "\n",
        "# Definisi masalah\n",
        "pelanggan = {\n",
        "    'A': (15, 5),\n",
        "    'B': (10, 30),\n",
        "    'C': (5, 10),  # Titik pertama\n",
        "    'D': (15, 20),\n",
        "    'E': (25, 10),\n",
        "    'F': (30, 20),\n",
        "    'G': (45, 5),\n",
        "    'H': (35, 30),\n",
        "    'I': (45, 25),  # Titik terjauh\n",
        "    'J': (40, 10)\n",
        "}\n",
        "\n",
        "prioritas = {'Kuning': ['F', 'G'], 'Merah': ['I', 'A']}\n",
        "waktu_prioritas = {'Kuning': 120, 'Merah': 180}  # Dalam menit\n",
        "denda = {'Kuning': 5000, 'Merah': 10000}  # Dalam 30 menit\n",
        "bonus = {'Kuning': 0, 'Merah': 25000}\n",
        "\n",
        "# Definisikan fungsi tujuan\n",
        "def hitung_jarak(rute):\n",
        "    jarak = 0\n",
        "    for i in range(len(rute) - 1):\n",
        "        jarak += math.sqrt((pelanggan[rute[i]][0] - pelanggan[rute[i+1]][0])**2 +\n",
        "                           (pelanggan[rute[i]][1] - pelanggan[rute[i+1]][1])**2)\n",
        "    return jarak\n",
        "\n",
        "# Inisialisasi populasi\n",
        "def inisialisasi_populasi(ukuran_populasi):\n",
        "    populasi = []\n",
        "    for _ in range(ukuran_populasi):\n",
        "        rute = list(pelanggan.keys())\n",
        "        rute.remove('C')\n",
        "        kuning = [p for p in prioritas['Kuning'] if p in rute]\n",
        "        merah = [p for p in prioritas['Merah'] if p in rute]\n",
        "        rute = kuning + merah + [p for p in rute if p not in kuning + merah]\n",
        "        rute.insert(0, 'C')  # Memasukkan titik C di awal rute\n",
        "        populasi.append(rute)\n",
        "    return populasi\n",
        "\n",
        "# Evaluasi populasi\n",
        "def evaluasi_populasi(populasi):\n",
        "    evaluasi = []\n",
        "    for rute in populasi:\n",
        "        biaya_total, _ = simulasi_pengiriman(rute)\n",
        "        evaluasi.append((rute, biaya_total))\n",
        "    return evaluasi\n",
        "\n",
        "# Seleksi orang tua menggunakan turnamen\n",
        "def seleksi_turnamen(evaluasi, ukuran_turnamen):\n",
        "    orang_tua = []\n",
        "    for _ in range(len(evaluasi)):\n",
        "        turnamen = random.sample(evaluasi, ukuran_turnamen)\n",
        "        pemenang_turnamen = min(turnamen, key=lambda x: x[1])\n",
        "        orang_tua.append(pemenang_turnamen[0])\n",
        "    return orang_tua\n",
        "\n",
        "# Crossover menggunakan metode Order Crossover (OX)\n",
        "def crossover(parent1, parent2):\n",
        "    start, end = sorted(random.sample(range(1, len(parent1)), 2))\n",
        "    child = [None] * len(parent1)\n",
        "    child[start:end] = parent1[start:end]\n",
        "    index = end % len(parent1)\n",
        "    for el in parent2[end:] + parent2[:end]:\n",
        "        if None in child:\n",
        "            if el not in child:\n",
        "                child[index] = el\n",
        "                index = (index + 1) % len(parent1)\n",
        "        else:\n",
        "            break\n",
        "    return child\n",
        "\n",
        "# Mutasi dengan pertukaran dua titik\n",
        "def mutasi(rute, prob_mutasi):\n",
        "    if random.random() < prob_mutasi:\n",
        "        idx1, idx2 = random.sample(range(1, len(rute)), 2)\n",
        "        rute[idx1], rute[idx2] = rute[idx2], rute[idx1]\n",
        "    return rute\n",
        "\n",
        "# Simulasikan pengiriman\n",
        "def simulasi_pengiriman(rute_optimal):\n",
        "    jarak_total = hitung_jarak(rute_optimal)\n",
        "    biaya_bensin = jarak_total * 1000  # Rp. 1000 per KM\n",
        "    biaya_total = biaya_bensin\n",
        "    waktu_tempuh = jarak_total  # Dalam menit\n",
        "    waktu_mulai = 0\n",
        "    for i in range(len(rute_optimal)):\n",
        "        if i > 0:\n",
        "            waktu_tempuh += hitung_jarak([rute_optimal[i-1], rute_optimal[i]])\n",
        "            if rute_optimal[i] in prioritas['Kuning']:\n",
        "                waktu_mulai = waktu_tempuh\n",
        "            elif rute_optimal[i] in prioritas['Merah']:\n",
        "                waktu_mulai = waktu_tempuh\n",
        "    for pelanggan, waktu_max in waktu_prioritas.items():\n",
        "        if waktu_mulai > waktu_max:\n",
        "            biaya_total += denda[pelanggan] * ((waktu_mulai - waktu_max) // 30)\n",
        "        else:\n",
        "            biaya_total -= bonus[pelanggan]\n",
        "    biaya_total += 15000 * (len(rute_optimal) - 1)  # Bonus pengiriman\n",
        "    return biaya_total, jarak_total\n",
        "\n",
        "# Evaluasi populasi\n",
        "def evaluasi_populasi(populasi):\n",
        "    evaluasi = []\n",
        "    for rute in populasi:\n",
        "        biaya_total, jarak_total = simulasi_pengiriman(rute)\n",
        "        pendapatan_total = hitung_pendapatan_total(biaya_total, jarak_total, rute)\n",
        "        evaluasi.append((rute, biaya_total, pendapatan_total))\n",
        "    return evaluasi\n",
        "\n",
        "# Algoritma genetika\n",
        "def algoritma_genetika(ukuran_populasi, ukuran_turnamen, prob_crossover, prob_mutasi, generasi):\n",
        "    populasi = inisialisasi_populasi(ukuran_populasi)\n",
        "    for _ in range(generasi):\n",
        "        evaluasi = evaluasi_populasi(populasi)\n",
        "        orang_tua = seleksi_turnamen(evaluasi, ukuran_turnamen)\n",
        "        anak_anak = []\n",
        "        while len(anak_anak) < ukuran_populasi:\n",
        "            parent1, parent2 = random.sample(orang_tua, 2)\n",
        "            anak = crossover(parent1, parent2)\n",
        "            anak = mutasi(anak, prob_mutasi)\n",
        "            anak_anak.append(anak)\n",
        "        populasi = anak_anak\n",
        "    evaluasi = evaluasi_populasi(populasi)\n",
        "    return min(evaluasi, key=lambda x: x[1])\n",
        "\n",
        "# Jalankan algoritma genetika\n",
        "ukuran_populasi = 100\n",
        "ukuran_turnamen = 10\n",
        "prob_crossover = 0.8\n",
        "prob_mutasi = 0.2\n",
        "generasi = 1000\n",
        "\n",
        "rute_optimal, biaya_total, pendapatan_total = algoritma_genetika(ukuran_populasi, ukuran_turnamen, prob_crossover, prob_mutasi, generasi)\n",
        "\n",
        "print(\"Rute Pengiriman Optimal:\", rute_optimal)\n",
        "print(\"Biaya Total:\", biaya_total, \"Rp\")\n",
        "print(\"Pendapatan Total:\", pendapatan_total, \"Rp\")"
      ],
      "metadata": {
        "colab": {
          "base_uri": "https://localhost:8080/"
        },
        "id": "6ZBPkXyvWOEW",
        "outputId": "11e2662f-43f7-4512-8d3a-eaeeca9cb053"
      },
      "execution_count": 72,
      "outputs": [
        {
          "output_type": "stream",
          "name": "stdout",
          "text": [
            "Rute Pengiriman Optimal: ['C', 'A', 'G', 'I', 'F', 'E', 'D', 'B', 'H', 'J']\n",
            "Biaya Total: 319110.071715158 Rp\n",
            "Pendapatan Total: 889.9282848419971 Rp\n"
          ]
        }
      ]
    },
    {
      "cell_type": "markdown",
      "source": [
        "## 3 a NIM AKHIR X=1 Y=3=C"
      ],
      "metadata": {
        "id": "0b4fdsmxegsa"
      }
    },
    {
      "cell_type": "code",
      "source": [
        "from collections import defaultdict, deque\n",
        "\n",
        "class Graf:\n",
        "    def __init__(self):\n",
        "        self.graf = defaultdict(list)\n",
        "        self.bobot = {}\n",
        "\n",
        "    def tambah_sisi(self, u, v, bobot):\n",
        "        self.graf[u].append(v)\n",
        "        self.bobot[(u, v)] = bobot\n",
        "\n",
        "    def rute_terbaik(self, mulai, akhir):\n",
        "        dikunjungi = set()\n",
        "        antrian = deque([(mulai, [mulai], 0)])  # (simpul, rute, total_bobot)\n",
        "\n",
        "        while antrian:\n",
        "            simpul, rute, total_bobot = antrian.popleft()\n",
        "            dikunjungi.add(simpul)\n",
        "\n",
        "            if simpul == akhir:\n",
        "                yield rute, total_bobot\n",
        "\n",
        "            for tetangga in self.graf[simpul]:\n",
        "                if tetangga not in dikunjungi:\n",
        "                    bobot = total_bobot + self.bobot[(simpul, tetangga)]\n",
        "                    antrian.append((tetangga, rute + [tetangga], bobot))\n",
        "                    dikunjungi.add(tetangga)\n",
        "\n",
        "# Contoh penggunaan\n",
        "if __name__ == \"__main__\":\n",
        "    graf = Graf()\n",
        "    graf.tambah_sisi('A', 'C',70)\n",
        "    graf.tambah_sisi('C', 'B',87)\n",
        "    graf.tambah_sisi('C', 'H',92)\n",
        "    graf.tambah_sisi('H', 'D',100)\n",
        "    graf.tambah_sisi('H', 'J',142)\n",
        "    graf.tambah_sisi('J', 'F',98)\n",
        "    graf.tambah_sisi('J', 'G',69)\n",
        "    graf.tambah_sisi('J', 'ABC',85)\n",
        "    graf.tambah_sisi('F', 'E',86)\n",
        "    graf.tambah_sisi('ABC', 'I',90)\n",
        "    graf.tambah_sisi('ABC', '13',211)\n",
        "    graf.tambah_sisi('ABC', '12',101)\n",
        "    graf.tambah_sisi('13', '4',99)\n",
        "    graf.tambah_sisi('12', '11',138)\n",
        "    graf.tambah_sisi('12', '9',97)\n",
        "    graf.tambah_sisi('11', '9',146)\n",
        "    graf.tambah_sisi('9', '4',80)\n",
        "    graf.tambah_sisi('11', '8',120)\n",
        "    graf.tambah_sisi('4', '0',135)\n",
        "    graf.tambah_sisi('4', '1',151)\n",
        "    graf.tambah_sisi('4', '2',140)\n",
        "    graf.tambah_sisi('1', '5',71)\n",
        "    graf.tambah_sisi('5', '2',75)\n",
        "    graf.tambah_sisi('2', '3',118)\n",
        "    graf.tambah_sisi('8', '7',75)\n",
        "    graf.tambah_sisi('7', '6',70)\n",
        "    graf.tambah_sisi('6', '3',111)\n",
        "\n",
        "    simpul_mulai = 'C'\n",
        "    simpul_akhir = '1'\n",
        "    rute_terbaik = list(graf.rute_terbaik(simpul_mulai, simpul_akhir))\n",
        "\n",
        "    if rute_terbaik:\n",
        "        rute, total_bobot = min(rute_terbaik, key=lambda x: x[1])\n",
        "        print(\"Rute terbaik dari\", simpul_mulai, \"ke\", simpul_akhir, \":\", rute)\n",
        "        print(\"Total bobot:\", total_bobot)\n",
        "    else:\n",
        "        print(\"Tidak ada rute ditemukan dari\", simpul_mulai, \"ke\", simpul_akhir)"
      ],
      "metadata": {
        "colab": {
          "base_uri": "https://localhost:8080/"
        },
        "id": "2o5qnIRnejQm",
        "outputId": "bcde586a-4063-41ce-e680-8be82c65e62e"
      },
      "execution_count": 75,
      "outputs": [
        {
          "output_type": "stream",
          "name": "stdout",
          "text": [
            "Rute terbaik dari C ke 1 : ['C', 'H', 'J', 'ABC', '13', '4', '1']\n",
            "Total bobot: 780\n"
          ]
        }
      ]
    },
    {
      "cell_type": "markdown",
      "source": [
        "## 3b"
      ],
      "metadata": {
        "id": "0Mh-QcJdmJ6I"
      }
    },
    {
      "cell_type": "code",
      "source": [
        "class Graf:\n",
        "    def __init__(self):\n",
        "        self.graf = {}\n",
        "\n",
        "    def tambah_sisi(self, u, v, bobot):\n",
        "        if u not in self.graf:\n",
        "            self.graf[u] = {}\n",
        "        self.graf[u][v] = bobot\n",
        "\n",
        "    def dfs(self, node, dikunjungi, jalur):\n",
        "        dikunjungi.add(node)\n",
        "        jalur.append(node)\n",
        "\n",
        "        if node == self.simpul_akhir:\n",
        "            self.rute_terbaik = jalur[:]\n",
        "            return\n",
        "\n",
        "        for tetangga in self.graf.get(node, {}):\n",
        "            if tetangga not in dikunjungi:\n",
        "                self.dfs(tetangga, dikunjungi, jalur)\n",
        "\n",
        "        jalur.pop()\n",
        "\n",
        "    def temukan_rute_terbaik_dfs(self, mulai, akhir):\n",
        "        self.simpul_akhir = akhir\n",
        "        dikunjungi = set()\n",
        "        self.rute_terbaik = []\n",
        "\n",
        "        self.dfs(mulai, dikunjungi, [])\n",
        "        return self.rute_terbaik\n",
        "\n",
        "# Contoh penggunaan\n",
        "if __name__ == \"__main__\":\n",
        "    graf = Graf()\n",
        "    graf.tambah_sisi('A', 'C', 70)\n",
        "    graf.tambah_sisi('C', 'B', 87)\n",
        "    graf.tambah_sisi('C', 'H', 92)\n",
        "    graf.tambah_sisi('H', 'D', 100)\n",
        "    graf.tambah_sisi('H', 'J', 142)\n",
        "    graf.tambah_sisi('J', 'F', 98)\n",
        "    graf.tambah_sisi('J', 'G', 69)\n",
        "    graf.tambah_sisi('J', 'ABC', 85)\n",
        "    graf.tambah_sisi('F', 'E', 86)\n",
        "    graf.tambah_sisi('ABC', 'I', 90)\n",
        "    graf.tambah_sisi('ABC', '13', 211)\n",
        "    graf.tambah_sisi('ABC', '12', 101)\n",
        "    graf.tambah_sisi('13', '4', 99)\n",
        "    graf.tambah_sisi('12', '11', 138)\n",
        "    graf.tambah_sisi('12', '9', 97)\n",
        "    graf.tambah_sisi('11', '9', 146)\n",
        "    graf.tambah_sisi('9', '4', 80)\n",
        "    graf.tambah_sisi('11', '8', 120)\n",
        "    graf.tambah_sisi('4', '0', 135)\n",
        "    graf.tambah_sisi('4', '1', 151)\n",
        "    graf.tambah_sisi('4', '2', 140)\n",
        "    graf.tambah_sisi('1', '5', 71)\n",
        "    graf.tambah_sisi('5', '2', 75)\n",
        "    graf.tambah_sisi('2', '3', 118)\n",
        "    graf.tambah_sisi('8', '7', 75)\n",
        "    graf.tambah_sisi('7', '6', 70)\n",
        "    graf.tambah_sisi('6', '3', 111)\n",
        "\n",
        "    simpul_mulai = 'C'\n",
        "    simpul_akhir = '1'\n",
        "\n",
        "    rute_terbaik = graf.temukan_rute_terbaik_dfs(simpul_mulai, simpul_akhir)\n",
        "    if rute_terbaik:\n",
        "        print(\"Rute terbaik dari\", simpul_mulai, \"ke\", simpul_akhir, \":\", rute_terbaik)\n",
        "    else:\n",
        "        print(\"Tidak ada rute ditemukan dari\", simpul_mulai, \"ke\", simpul_akhir)"
      ],
      "metadata": {
        "colab": {
          "base_uri": "https://localhost:8080/"
        },
        "id": "bwhIf7HumPL0",
        "outputId": "a30bcf17-e64c-4ffb-d31f-06c83368c91d"
      },
      "execution_count": 77,
      "outputs": [
        {
          "output_type": "stream",
          "name": "stdout",
          "text": [
            "Rute terbaik dari C ke 1 : ['C', 'H', 'J', 'ABC', '13', '4', '1']\n"
          ]
        }
      ]
    },
    {
      "cell_type": "markdown",
      "source": [
        "3.c"
      ],
      "metadata": {
        "id": "8Tm8fiHsnxhw"
      }
    },
    {
      "cell_type": "code",
      "source": [
        "import heapq\n",
        "\n",
        "class Graf:\n",
        "    def __init__(self):\n",
        "        self.graf = {}\n",
        "\n",
        "    def tambah_sisi(self, u, v, bobot):\n",
        "        if u not in self.graf:\n",
        "            self.graf[u] = {}\n",
        "        self.graf[u][v] = bobot\n",
        "\n",
        "    def uniform_cost_search(self, start, end):\n",
        "        queue = [(0, start, [])]  # (total_bobot, node, path)\n",
        "        dikunjungi = set()\n",
        "\n",
        "        while queue:\n",
        "            total_bobot, node, path = heapq.heappop(queue)\n",
        "\n",
        "            if node == end:\n",
        "                return path + [node]\n",
        "\n",
        "            if node not in dikunjungi:\n",
        "                dikunjungi.add(node)\n",
        "                for tetangga, bobot in self.graf.get(node, {}).items():\n",
        "                    heapq.heappush(queue, (total_bobot + bobot, tetangga, path + [node]))\n",
        "\n",
        "        return None\n",
        "\n",
        "# Contoh penggunaan\n",
        "if __name__ == \"__main__\":\n",
        "    graf = Graf()\n",
        "    graf.tambah_sisi('A', 'C', 70)\n",
        "    graf.tambah_sisi('C', 'B', 87)\n",
        "    graf.tambah_sisi('C', 'H', 92)\n",
        "    graf.tambah_sisi('H', 'D', 100)\n",
        "    graf.tambah_sisi('H', 'J', 142)\n",
        "    graf.tambah_sisi('J', 'F', 98)\n",
        "    graf.tambah_sisi('J', 'G', 69)\n",
        "    graf.tambah_sisi('J', 'ABC', 85)\n",
        "    graf.tambah_sisi('F', 'E', 86)\n",
        "    graf.tambah_sisi('ABC', 'I', 90)\n",
        "    graf.tambah_sisi('ABC', '13', 211)\n",
        "    graf.tambah_sisi('ABC', '12', 101)\n",
        "    graf.tambah_sisi('13', '4', 99)\n",
        "    graf.tambah_sisi('12', '11', 138)\n",
        "    graf.tambah_sisi('12', '9', 97)\n",
        "    graf.tambah_sisi('11', '9', 146)\n",
        "    graf.tambah_sisi('9', '4', 80)\n",
        "    graf.tambah_sisi('11', '8', 120)\n",
        "    graf.tambah_sisi('4', '0', 135)\n",
        "    graf.tambah_sisi('4', '1', 151)\n",
        "    graf.tambah_sisi('4', '2', 140)\n",
        "    graf.tambah_sisi('1', '5', 71)\n",
        "    graf.tambah_sisi('5', '2', 75)\n",
        "    graf.tambah_sisi('2', '3', 118)\n",
        "    graf.tambah_sisi('8', '7', 75)\n",
        "    graf.tambah_sisi('7', '6', 70)\n",
        "    graf.tambah_sisi('6', '3', 111)\n",
        "\n",
        "    simpul_mulai = 'C'\n",
        "    simpul_akhir = '1'\n",
        "\n",
        "    rute_terbaik = graf.uniform_cost_search(simpul_mulai, simpul_akhir)\n",
        "    if rute_terbaik:\n",
        "        print(\"Rute terbaik dari\", simpul_mulai, \"ke\", simpul_akhir, \":\", rute_terbaik)\n",
        "    else:\n",
        "        print(\"Tidak ada rute ditemukan dari\", simpul_mulai, \"ke\", simpul_akhir)"
      ],
      "metadata": {
        "colab": {
          "base_uri": "https://localhost:8080/"
        },
        "id": "aubzFbXaoIWy",
        "outputId": "59de07ef-b470-41c1-9ad3-9a37760c3d5b"
      },
      "execution_count": 5,
      "outputs": [
        {
          "output_type": "stream",
          "name": "stdout",
          "text": [
            "Rute terbaik dari C ke 1 : ['C', 'H', 'J', 'ABC', '12', '9', '4', '1']\n"
          ]
        }
      ]
    },
    {
      "cell_type": "markdown",
      "source": [
        "## 3. d"
      ],
      "metadata": {
        "id": "TmNbXV9xptQ2"
      }
    },
    {
      "cell_type": "code",
      "source": [
        "class Graf:\n",
        "    def __init__(self):\n",
        "        self.graf = {}\n",
        "\n",
        "    def tambah_sisi(self, u, v, bobot):\n",
        "        if u not in self.graf:\n",
        "            self.graf[u] = {}\n",
        "        self.graf[u][v] = bobot\n",
        "\n",
        "    def greedy_search(self, awal, tujuan):\n",
        "        queue = [(0, awal, [])]  # (total_bobot, node, path)\n",
        "        dikunjungi = set()\n",
        "\n",
        "        while queue:\n",
        "            _, node, path = queue.pop()\n",
        "\n",
        "            if node == tujuan:\n",
        "                return path + [node]\n",
        "\n",
        "            if node not in dikunjungi:\n",
        "                dikunjungi.add(node)\n",
        "                for tetangga, bobot in self.graf.get(node, {}).items():\n",
        "                    queue.append((bobot, tetangga, path + [node]))\n",
        "                queue.sort(key=lambda x: x[0], reverse=True)  # Urutkan berdasarkan bobot (dalam hal greedy search)\n",
        "\n",
        "        return None\n",
        "\n",
        "# Contoh penggunaan\n",
        "if __name__ == \"__main__\":\n",
        "    graf = Graf()\n",
        "    graf.tambah_sisi('A', 'C', 70)\n",
        "    graf.tambah_sisi('C', 'B', 87)\n",
        "    graf.tambah_sisi('C', 'H', 92)\n",
        "    graf.tambah_sisi('H', 'D', 100)\n",
        "    graf.tambah_sisi('H', 'J', 142)\n",
        "    graf.tambah_sisi('J', 'F', 98)\n",
        "    graf.tambah_sisi('J', 'G', 69)\n",
        "    graf.tambah_sisi('J', 'ABC', 85)\n",
        "    graf.tambah_sisi('F', 'E', 86)\n",
        "    graf.tambah_sisi('ABC', 'I', 90)\n",
        "    graf.tambah_sisi('ABC', '13', 211)\n",
        "    graf.tambah_sisi('ABC', '12', 101)\n",
        "    graf.tambah_sisi('13', '4', 99)\n",
        "    graf.tambah_sisi('12', '11', 138)\n",
        "    graf.tambah_sisi('12', '9', 97)\n",
        "    graf.tambah_sisi('11', '9', 146)\n",
        "    graf.tambah_sisi('9', '4', 80)\n",
        "    graf.tambah_sisi('11', '8', 120)\n",
        "    graf.tambah_sisi('4', '0', 135)\n",
        "    graf.tambah_sisi('4', '1', 151)\n",
        "    graf.tambah_sisi('4', '2', 140)\n",
        "    graf.tambah_sisi('1', '5', 71)\n",
        "    graf.tambah_sisi('5', '2', 75)\n",
        "    graf.tambah_sisi('2', '3', 118)\n",
        "    graf.tambah_sisi('8', '7', 75)\n",
        "    graf.tambah_sisi('7', '6', 70)\n",
        "    graf.tambah_sisi('6', '3', 111)\n",
        "\n",
        "    simpul_mulai = 'C'\n",
        "    simpul_akhir = '1'\n",
        "\n",
        "    rute_terbaik = graf.greedy_search(simpul_mulai, simpul_akhir)\n",
        "    if rute_terbaik:\n",
        "        print(\"Rute terbaik dari\", simpul_mulai, \"ke\", simpul_akhir, \":\", rute_terbaik)\n",
        "    else:\n",
        "        print(\"Tidak ada rute ditemukan dari\", simpul_mulai, \"ke\", simpul_akhir)"
      ],
      "metadata": {
        "colab": {
          "base_uri": "https://localhost:8080/"
        },
        "id": "-NiseNAIcY0K",
        "outputId": "a368be12-d6ca-4eb3-e4cc-6ebf075d5614"
      },
      "execution_count": 6,
      "outputs": [
        {
          "output_type": "stream",
          "name": "stdout",
          "text": [
            "Rute terbaik dari C ke 1 : ['C', 'H', 'J', 'ABC', '12', '9', '4', '1']\n"
          ]
        }
      ]
    },
    {
      "cell_type": "markdown",
      "source": [
        "## 3 e"
      ],
      "metadata": {
        "id": "l-tpE3Q5e3f2"
      }
    },
    {
      "cell_type": "code",
      "source": [
        "import heapq\n",
        "\n",
        "class Graf:\n",
        "    def __init__(self):\n",
        "        self.graf = {}\n",
        "\n",
        "    def tambah_sisi(self, u, v, bobot):\n",
        "        if u not in self.graf:\n",
        "            self.graf[u] = {}\n",
        "        self.graf[u][v] = bobot\n",
        "\n",
        "    def heuristic(self, node, tujuan):\n",
        "        # Misalnya, kita gunakan heuristik yang sudah diketahui\n",
        "        heuristic_values = {\n",
        "            'A': 370,\n",
        "            'B': 320,\n",
        "            'C': 345,\n",
        "            'D': 335,\n",
        "            'E': 820,\n",
        "            'F': 770,\n",
        "            'G': 760,\n",
        "            'H': 490,\n",
        "            'I': 720,\n",
        "            'J': 715,\n",
        "            'ABC': 710,\n",
        "            '13': 370,\n",
        "            '12': 420,\n",
        "            '11': 470,\n",
        "            '9': 325,\n",
        "            '8': 405,\n",
        "            '7': 395,\n",
        "            '6': 335,\n",
        "            '5': 375,\n",
        "            '4': 305,\n",
        "            '3': 510,\n",
        "            '2': 500,\n",
        "            '1': 0,\n",
        "            '0': 300\n",
        "        }\n",
        "        # Hanya berikan nilai heuristik jika simpul adalah tujuan atau merupakan bagian dari rute\n",
        "        if node == tujuan or node in heuristic_values:\n",
        "            return heuristic_values[node]\n",
        "        else:\n",
        "            return float('inf')  # Atasi simpul yang tidak relevan dengan nilai tak terhingga\n",
        "\n",
        "    def astar_search(self, awal, tujuan):\n",
        "        queue = [(0, awal, [])]  # (total_bobot + heuristic, node, path)\n",
        "        dikunjungi = set()\n",
        "\n",
        "        while queue:\n",
        "            _, node, path = heapq.heappop(queue)\n",
        "\n",
        "            if node == tujuan:\n",
        "                return path + [node]\n",
        "\n",
        "            if node not in dikunjungi:\n",
        "                dikunjungi.add(node)\n",
        "                for tetangga, bobot in self.graf.get(node, {}).items():\n",
        "                    total_bobot = len(path) + bobot + self.heuristic(tetangga, tujuan)\n",
        "                    heapq.heappush(queue, (total_bobot, tetangga, path + [node]))\n",
        "\n",
        "        return None\n",
        "\n",
        "# Contoh penggunaan\n",
        "if __name__ == \"__main__\":\n",
        "    graf = Graf()\n",
        "    graf.tambah_sisi('A', 'C', 70)\n",
        "    graf.tambah_sisi('C', 'B', 87)\n",
        "    graf.tambah_sisi('C', 'H', 92)\n",
        "    graf.tambah_sisi('H', 'D', 100)\n",
        "    graf.tambah_sisi('H', 'J', 142)\n",
        "    graf.tambah_sisi('J', 'F', 98)\n",
        "    graf.tambah_sisi('J', 'G', 69)\n",
        "    graf.tambah_sisi('J', 'ABC', 85)\n",
        "    graf.tambah_sisi('F', 'E', 86)\n",
        "    graf.tambah_sisi('ABC', 'I', 90)\n",
        "    graf.tambah_sisi('ABC', '13', 211)\n",
        "    graf.tambah_sisi('ABC', '12', 101)\n",
        "    graf.tambah_sisi('13', '4', 99)\n",
        "    graf.tambah_sisi('12', '11', 138)\n",
        "    graf.tambah_sisi('12', '9', 97)\n",
        "    graf.tambah_sisi('11', '9', 146)\n",
        "    graf.tambah_sisi('9', '4', 80)\n",
        "    graf.tambah_sisi('11', '8', 120)\n",
        "    graf.tambah_sisi('4', '0', 135)\n",
        "    graf.tambah_sisi('4', '1', 151)\n",
        "    graf.tambah_sisi('4', '2', 140)\n",
        "    graf.tambah_sisi('1', '5', 71)\n",
        "    graf.tambah_sisi('5', '2', 75)\n",
        "    graf.tambah_sisi('2', '3', 118)\n",
        "    graf.tambah_sisi('8', '7', 75)\n",
        "    graf.tambah_sisi('7', '6', 70)\n",
        "    graf.tambah_sisi('6', '3', 111)\n",
        "\n",
        "    simpul_mulai = 'C'\n",
        "    simpul_akhir = '1'\n",
        "\n",
        "    rute_terbaik = graf.astar_search(simpul_mulai, simpul_akhir)\n",
        "    if rute_terbaik:\n",
        "        print(\"Rute terbaik dari\", simpul_mulai, \"ke\", simpul_akhir, \":\", rute_terbaik)\n",
        "    else:\n",
        "        print(\"Tidak ada rute ditemukan dari\", simpul_mulai, \"ke\", simpul_akhir)"
      ],
      "metadata": {
        "colab": {
          "base_uri": "https://localhost:8080/"
        },
        "id": "t4ej4gCwe_Py",
        "outputId": "b0b0e202-086a-478f-be42-5c8fb2eb6b5b"
      },
      "execution_count": 7,
      "outputs": [
        {
          "output_type": "stream",
          "name": "stdout",
          "text": [
            "Rute terbaik dari C ke 1 : ['C', 'H', 'J', 'ABC', '12', '9', '4', '1']\n"
          ]
        }
      ]
    },
    {
      "cell_type": "markdown",
      "source": [
        "## 4 NIM = 13"
      ],
      "metadata": {
        "id": "Fki99MO7mvF5"
      }
    },
    {
      "cell_type": "code",
      "source": [
        "!pip install -U scikit-fuzzy"
      ],
      "metadata": {
        "colab": {
          "base_uri": "https://localhost:8080/"
        },
        "id": "eCRvrT-ysrbN",
        "outputId": "06832b5e-62bd-4f70-f180-1d8d85360b09"
      },
      "execution_count": 20,
      "outputs": [
        {
          "output_type": "stream",
          "name": "stdout",
          "text": [
            "Requirement already satisfied: scikit-fuzzy in /usr/local/lib/python3.10/dist-packages (0.4.2)\n",
            "Requirement already satisfied: numpy>=1.6.0 in /usr/local/lib/python3.10/dist-packages (from scikit-fuzzy) (1.25.2)\n",
            "Requirement already satisfied: scipy>=0.9.0 in /usr/local/lib/python3.10/dist-packages (from scikit-fuzzy) (1.11.4)\n",
            "Requirement already satisfied: networkx>=1.9.0 in /usr/local/lib/python3.10/dist-packages (from scikit-fuzzy) (3.3)\n"
          ]
        }
      ]
    },
    {
      "cell_type": "code",
      "source": [
        "import numpy as np\n",
        "import skfuzzy as fuzz\n",
        "from skfuzzy import control as ctrl\n",
        "\n",
        "# Inisialisasi variabel input\n",
        "signal_quality = ctrl.Antecedent(np.arange(0, 101, 1), 'signal_quality')\n",
        "network_latency = ctrl.Antecedent(np.arange(0, 101, 1), 'network_latency')\n",
        "\n",
        "# Inisialisasi variabel output\n",
        "video_experience = ctrl.Consequent(np.arange(0, 101, 1), 'video_experience')\n",
        "\n",
        "# Fungsi keanggotaan\n",
        "signal_quality['poor'] = fuzz.trimf(signal_quality.universe, [0, 0, 50])\n",
        "signal_quality['fair'] = fuzz.trimf(signal_quality.universe, [0, 50, 100])\n",
        "signal_quality['good'] = fuzz.trimf(signal_quality.universe, [50, 100, 100])\n",
        "\n",
        "network_latency['low'] = fuzz.trimf(network_latency.universe, [0, 0, 50])\n",
        "network_latency['medium'] = fuzz.trimf(network_latency.universe, [0, 50, 100])\n",
        "network_latency['high'] = fuzz.trimf(network_latency.universe, [50, 100, 100])\n",
        "\n",
        "video_experience['poor'] = fuzz.trimf(video_experience.universe, [0, 0, 50])\n",
        "video_experience['fair'] = fuzz.trimf(video_experience.universe, [0, 50, 100])\n",
        "video_experience['good'] = fuzz.trimf(video_experience.universe, [50, 100, 100])\n",
        "video_experience['excellent'] = fuzz.trimf(video_experience.universe, [50, 100, 100])\n",
        "\n",
        "# Aturan Fuzzy\n",
        "rule1 = ctrl.Rule(signal_quality['poor'] & network_latency['low'], video_experience['poor'])\n",
        "rule2 = ctrl.Rule(signal_quality['poor'] & network_latency['medium'], video_experience['fair'])\n",
        "rule3 = ctrl.Rule(signal_quality['poor'] & network_latency['high'], video_experience['good'])\n",
        "rule4 = ctrl.Rule(signal_quality['fair'] & network_latency['low'], video_experience['fair'])\n",
        "rule5 = ctrl.Rule(signal_quality['fair'] & network_latency['medium'], video_experience['good'])\n",
        "rule6 = ctrl.Rule(signal_quality['fair'] & network_latency['high'], video_experience['excellent'])\n",
        "rule7 = ctrl.Rule(signal_quality['good'] & network_latency['low'], video_experience['good'])\n",
        "rule8 = ctrl.Rule(signal_quality['good'] & network_latency['medium'], video_experience['excellent'])\n",
        "rule9 = ctrl.Rule(signal_quality['good'] & network_latency['high'], video_experience['excellent'])\n",
        "\n",
        "# Control System\n",
        "video_experience_ctrl = ctrl.ControlSystem([rule1, rule2, rule3, rule4, rule5, rule6, rule7, rule8, rule9])\n",
        "video_experience_sim = ctrl.ControlSystemSimulation(video_experience_ctrl)\n",
        "\n",
        "# Input\n",
        "video_experience_sim.input['signal_quality'] = 30\n",
        "video_experience_sim.input['network_latency'] = 70\n",
        "\n",
        "# Perhitungan\n",
        "video_experience_sim.compute()\n",
        "\n",
        "# Output\n",
        "print(\"Video Experience:\", video_experience_sim.output['video_experience'])"
      ],
      "metadata": {
        "colab": {
          "base_uri": "https://localhost:8080/"
        },
        "id": "Sm5H4Z-bmxdF",
        "outputId": "e5661e2e-5246-4600-81a8-c169b6ee0077"
      },
      "execution_count": 21,
      "outputs": [
        {
          "output_type": "stream",
          "name": "stdout",
          "text": [
            "Video Experience: 58.78048780487803\n"
          ]
        }
      ]
    }
  ]
}