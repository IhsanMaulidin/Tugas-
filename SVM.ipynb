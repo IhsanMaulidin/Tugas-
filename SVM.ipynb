{
  "nbformat": 4,
  "nbformat_minor": 0,
  "metadata": {
    "colab": {
      "provenance": [],
      "mount_file_id": "16evfcfMCUS3gbZGStlf06I1Pu3kDCSs-",
      "authorship_tag": "ABX9TyPQX1TUWlc0TKZXdC/L6kJv",
      "include_colab_link": true
    },
    "kernelspec": {
      "name": "python3",
      "display_name": "Python 3"
    },
    "language_info": {
      "name": "python"
    }
  },
  "cells": [
    {
      "cell_type": "markdown",
      "metadata": {
        "id": "view-in-github",
        "colab_type": "text"
      },
      "source": [
        "<a href=\"https://colab.research.google.com/github/IhsanMaulidin/Tugas-/blob/main/SVM.ipynb\" target=\"_parent\"><img src=\"https://colab.research.google.com/assets/colab-badge.svg\" alt=\"Open In Colab\"/></a>"
      ]
    },
    {
      "cell_type": "code",
      "execution_count": 1,
      "metadata": {
        "id": "0mBEwuOFeDIg"
      },
      "outputs": [],
      "source": [
        "import pandas as pd\n",
        "import numpy as np\n",
        "import matplotlib\n",
        "import matplotlib.pyplot as plt\n",
        "import seaborn as sns\n",
        "\n"
      ]
    },
    {
      "cell_type": "markdown",
      "source": [
        "## Import Data"
      ],
      "metadata": {
        "id": "PIuk5JiLjxTz"
      }
    },
    {
      "cell_type": "code",
      "source": [
        "df = pd.read_csv('/content/DATA CPA.csv')\n",
        "df\n"
      ],
      "metadata": {
        "colab": {
          "base_uri": "https://localhost:8080/",
          "height": 423
        },
        "id": "ok59-ANRHeBd",
        "outputId": "6b12b342-4455-498c-c103-f2d7e9a53aac"
      },
      "execution_count": 8,
      "outputs": [
        {
          "output_type": "execute_result",
          "data": {
            "text/plain": [
              "       powLv1    powLv2    powLv3    powLv4    powLv5 kelas\n",
              "0    0.446692  0.220117  0.144672  0.106003  0.082516     A\n",
              "1    0.442455  0.219658  0.145039  0.107494  0.085354     A\n",
              "2    0.446993  0.220535  0.144443  0.105565  0.082465     A\n",
              "3    0.457090  0.221898  0.141954  0.101666  0.077392     A\n",
              "4    0.447407  0.220674  0.143812  0.105975  0.082134     A\n",
              "..        ...       ...       ...       ...       ...   ...\n",
              "695  0.444264  0.220282  0.144946  0.106833  0.083676     E\n",
              "696  0.445045  0.220472  0.144977  0.106466  0.083040     E\n",
              "697  0.445374  0.220198  0.145034  0.106326  0.083069     E\n",
              "698  0.449798  0.221450  0.143373  0.105009  0.080371     E\n",
              "699  0.446266  0.220902  0.144428  0.105523  0.082881     E\n",
              "\n",
              "[700 rows x 6 columns]"
            ],
            "text/html": [
              "\n",
              "  <div id=\"df-3775f752-7761-4367-b7a1-558fb1c8a400\" class=\"colab-df-container\">\n",
              "    <div>\n",
              "<style scoped>\n",
              "    .dataframe tbody tr th:only-of-type {\n",
              "        vertical-align: middle;\n",
              "    }\n",
              "\n",
              "    .dataframe tbody tr th {\n",
              "        vertical-align: top;\n",
              "    }\n",
              "\n",
              "    .dataframe thead th {\n",
              "        text-align: right;\n",
              "    }\n",
              "</style>\n",
              "<table border=\"1\" class=\"dataframe\">\n",
              "  <thead>\n",
              "    <tr style=\"text-align: right;\">\n",
              "      <th></th>\n",
              "      <th>powLv1</th>\n",
              "      <th>powLv2</th>\n",
              "      <th>powLv3</th>\n",
              "      <th>powLv4</th>\n",
              "      <th>powLv5</th>\n",
              "      <th>kelas</th>\n",
              "    </tr>\n",
              "  </thead>\n",
              "  <tbody>\n",
              "    <tr>\n",
              "      <th>0</th>\n",
              "      <td>0.446692</td>\n",
              "      <td>0.220117</td>\n",
              "      <td>0.144672</td>\n",
              "      <td>0.106003</td>\n",
              "      <td>0.082516</td>\n",
              "      <td>A</td>\n",
              "    </tr>\n",
              "    <tr>\n",
              "      <th>1</th>\n",
              "      <td>0.442455</td>\n",
              "      <td>0.219658</td>\n",
              "      <td>0.145039</td>\n",
              "      <td>0.107494</td>\n",
              "      <td>0.085354</td>\n",
              "      <td>A</td>\n",
              "    </tr>\n",
              "    <tr>\n",
              "      <th>2</th>\n",
              "      <td>0.446993</td>\n",
              "      <td>0.220535</td>\n",
              "      <td>0.144443</td>\n",
              "      <td>0.105565</td>\n",
              "      <td>0.082465</td>\n",
              "      <td>A</td>\n",
              "    </tr>\n",
              "    <tr>\n",
              "      <th>3</th>\n",
              "      <td>0.457090</td>\n",
              "      <td>0.221898</td>\n",
              "      <td>0.141954</td>\n",
              "      <td>0.101666</td>\n",
              "      <td>0.077392</td>\n",
              "      <td>A</td>\n",
              "    </tr>\n",
              "    <tr>\n",
              "      <th>4</th>\n",
              "      <td>0.447407</td>\n",
              "      <td>0.220674</td>\n",
              "      <td>0.143812</td>\n",
              "      <td>0.105975</td>\n",
              "      <td>0.082134</td>\n",
              "      <td>A</td>\n",
              "    </tr>\n",
              "    <tr>\n",
              "      <th>...</th>\n",
              "      <td>...</td>\n",
              "      <td>...</td>\n",
              "      <td>...</td>\n",
              "      <td>...</td>\n",
              "      <td>...</td>\n",
              "      <td>...</td>\n",
              "    </tr>\n",
              "    <tr>\n",
              "      <th>695</th>\n",
              "      <td>0.444264</td>\n",
              "      <td>0.220282</td>\n",
              "      <td>0.144946</td>\n",
              "      <td>0.106833</td>\n",
              "      <td>0.083676</td>\n",
              "      <td>E</td>\n",
              "    </tr>\n",
              "    <tr>\n",
              "      <th>696</th>\n",
              "      <td>0.445045</td>\n",
              "      <td>0.220472</td>\n",
              "      <td>0.144977</td>\n",
              "      <td>0.106466</td>\n",
              "      <td>0.083040</td>\n",
              "      <td>E</td>\n",
              "    </tr>\n",
              "    <tr>\n",
              "      <th>697</th>\n",
              "      <td>0.445374</td>\n",
              "      <td>0.220198</td>\n",
              "      <td>0.145034</td>\n",
              "      <td>0.106326</td>\n",
              "      <td>0.083069</td>\n",
              "      <td>E</td>\n",
              "    </tr>\n",
              "    <tr>\n",
              "      <th>698</th>\n",
              "      <td>0.449798</td>\n",
              "      <td>0.221450</td>\n",
              "      <td>0.143373</td>\n",
              "      <td>0.105009</td>\n",
              "      <td>0.080371</td>\n",
              "      <td>E</td>\n",
              "    </tr>\n",
              "    <tr>\n",
              "      <th>699</th>\n",
              "      <td>0.446266</td>\n",
              "      <td>0.220902</td>\n",
              "      <td>0.144428</td>\n",
              "      <td>0.105523</td>\n",
              "      <td>0.082881</td>\n",
              "      <td>E</td>\n",
              "    </tr>\n",
              "  </tbody>\n",
              "</table>\n",
              "<p>700 rows × 6 columns</p>\n",
              "</div>\n",
              "    <div class=\"colab-df-buttons\">\n",
              "\n",
              "  <div class=\"colab-df-container\">\n",
              "    <button class=\"colab-df-convert\" onclick=\"convertToInteractive('df-3775f752-7761-4367-b7a1-558fb1c8a400')\"\n",
              "            title=\"Convert this dataframe to an interactive table.\"\n",
              "            style=\"display:none;\">\n",
              "\n",
              "  <svg xmlns=\"http://www.w3.org/2000/svg\" height=\"24px\" viewBox=\"0 -960 960 960\">\n",
              "    <path d=\"M120-120v-720h720v720H120Zm60-500h600v-160H180v160Zm220 220h160v-160H400v160Zm0 220h160v-160H400v160ZM180-400h160v-160H180v160Zm440 0h160v-160H620v160ZM180-180h160v-160H180v160Zm440 0h160v-160H620v160Z\"/>\n",
              "  </svg>\n",
              "    </button>\n",
              "\n",
              "  <style>\n",
              "    .colab-df-container {\n",
              "      display:flex;\n",
              "      gap: 12px;\n",
              "    }\n",
              "\n",
              "    .colab-df-convert {\n",
              "      background-color: #E8F0FE;\n",
              "      border: none;\n",
              "      border-radius: 50%;\n",
              "      cursor: pointer;\n",
              "      display: none;\n",
              "      fill: #1967D2;\n",
              "      height: 32px;\n",
              "      padding: 0 0 0 0;\n",
              "      width: 32px;\n",
              "    }\n",
              "\n",
              "    .colab-df-convert:hover {\n",
              "      background-color: #E2EBFA;\n",
              "      box-shadow: 0px 1px 2px rgba(60, 64, 67, 0.3), 0px 1px 3px 1px rgba(60, 64, 67, 0.15);\n",
              "      fill: #174EA6;\n",
              "    }\n",
              "\n",
              "    .colab-df-buttons div {\n",
              "      margin-bottom: 4px;\n",
              "    }\n",
              "\n",
              "    [theme=dark] .colab-df-convert {\n",
              "      background-color: #3B4455;\n",
              "      fill: #D2E3FC;\n",
              "    }\n",
              "\n",
              "    [theme=dark] .colab-df-convert:hover {\n",
              "      background-color: #434B5C;\n",
              "      box-shadow: 0px 1px 3px 1px rgba(0, 0, 0, 0.15);\n",
              "      filter: drop-shadow(0px 1px 2px rgba(0, 0, 0, 0.3));\n",
              "      fill: #FFFFFF;\n",
              "    }\n",
              "  </style>\n",
              "\n",
              "    <script>\n",
              "      const buttonEl =\n",
              "        document.querySelector('#df-3775f752-7761-4367-b7a1-558fb1c8a400 button.colab-df-convert');\n",
              "      buttonEl.style.display =\n",
              "        google.colab.kernel.accessAllowed ? 'block' : 'none';\n",
              "\n",
              "      async function convertToInteractive(key) {\n",
              "        const element = document.querySelector('#df-3775f752-7761-4367-b7a1-558fb1c8a400');\n",
              "        const dataTable =\n",
              "          await google.colab.kernel.invokeFunction('convertToInteractive',\n",
              "                                                    [key], {});\n",
              "        if (!dataTable) return;\n",
              "\n",
              "        const docLinkHtml = 'Like what you see? Visit the ' +\n",
              "          '<a target=\"_blank\" href=https://colab.research.google.com/notebooks/data_table.ipynb>data table notebook</a>'\n",
              "          + ' to learn more about interactive tables.';\n",
              "        element.innerHTML = '';\n",
              "        dataTable['output_type'] = 'display_data';\n",
              "        await google.colab.output.renderOutput(dataTable, element);\n",
              "        const docLink = document.createElement('div');\n",
              "        docLink.innerHTML = docLinkHtml;\n",
              "        element.appendChild(docLink);\n",
              "      }\n",
              "    </script>\n",
              "  </div>\n",
              "\n",
              "\n",
              "<div id=\"df-09ffafb4-93a7-4507-87f6-d97dd1280d58\">\n",
              "  <button class=\"colab-df-quickchart\" onclick=\"quickchart('df-09ffafb4-93a7-4507-87f6-d97dd1280d58')\"\n",
              "            title=\"Suggest charts\"\n",
              "            style=\"display:none;\">\n",
              "\n",
              "<svg xmlns=\"http://www.w3.org/2000/svg\" height=\"24px\"viewBox=\"0 0 24 24\"\n",
              "     width=\"24px\">\n",
              "    <g>\n",
              "        <path d=\"M19 3H5c-1.1 0-2 .9-2 2v14c0 1.1.9 2 2 2h14c1.1 0 2-.9 2-2V5c0-1.1-.9-2-2-2zM9 17H7v-7h2v7zm4 0h-2V7h2v10zm4 0h-2v-4h2v4z\"/>\n",
              "    </g>\n",
              "</svg>\n",
              "  </button>\n",
              "\n",
              "<style>\n",
              "  .colab-df-quickchart {\n",
              "      --bg-color: #E8F0FE;\n",
              "      --fill-color: #1967D2;\n",
              "      --hover-bg-color: #E2EBFA;\n",
              "      --hover-fill-color: #174EA6;\n",
              "      --disabled-fill-color: #AAA;\n",
              "      --disabled-bg-color: #DDD;\n",
              "  }\n",
              "\n",
              "  [theme=dark] .colab-df-quickchart {\n",
              "      --bg-color: #3B4455;\n",
              "      --fill-color: #D2E3FC;\n",
              "      --hover-bg-color: #434B5C;\n",
              "      --hover-fill-color: #FFFFFF;\n",
              "      --disabled-bg-color: #3B4455;\n",
              "      --disabled-fill-color: #666;\n",
              "  }\n",
              "\n",
              "  .colab-df-quickchart {\n",
              "    background-color: var(--bg-color);\n",
              "    border: none;\n",
              "    border-radius: 50%;\n",
              "    cursor: pointer;\n",
              "    display: none;\n",
              "    fill: var(--fill-color);\n",
              "    height: 32px;\n",
              "    padding: 0;\n",
              "    width: 32px;\n",
              "  }\n",
              "\n",
              "  .colab-df-quickchart:hover {\n",
              "    background-color: var(--hover-bg-color);\n",
              "    box-shadow: 0 1px 2px rgba(60, 64, 67, 0.3), 0 1px 3px 1px rgba(60, 64, 67, 0.15);\n",
              "    fill: var(--button-hover-fill-color);\n",
              "  }\n",
              "\n",
              "  .colab-df-quickchart-complete:disabled,\n",
              "  .colab-df-quickchart-complete:disabled:hover {\n",
              "    background-color: var(--disabled-bg-color);\n",
              "    fill: var(--disabled-fill-color);\n",
              "    box-shadow: none;\n",
              "  }\n",
              "\n",
              "  .colab-df-spinner {\n",
              "    border: 2px solid var(--fill-color);\n",
              "    border-color: transparent;\n",
              "    border-bottom-color: var(--fill-color);\n",
              "    animation:\n",
              "      spin 1s steps(1) infinite;\n",
              "  }\n",
              "\n",
              "  @keyframes spin {\n",
              "    0% {\n",
              "      border-color: transparent;\n",
              "      border-bottom-color: var(--fill-color);\n",
              "      border-left-color: var(--fill-color);\n",
              "    }\n",
              "    20% {\n",
              "      border-color: transparent;\n",
              "      border-left-color: var(--fill-color);\n",
              "      border-top-color: var(--fill-color);\n",
              "    }\n",
              "    30% {\n",
              "      border-color: transparent;\n",
              "      border-left-color: var(--fill-color);\n",
              "      border-top-color: var(--fill-color);\n",
              "      border-right-color: var(--fill-color);\n",
              "    }\n",
              "    40% {\n",
              "      border-color: transparent;\n",
              "      border-right-color: var(--fill-color);\n",
              "      border-top-color: var(--fill-color);\n",
              "    }\n",
              "    60% {\n",
              "      border-color: transparent;\n",
              "      border-right-color: var(--fill-color);\n",
              "    }\n",
              "    80% {\n",
              "      border-color: transparent;\n",
              "      border-right-color: var(--fill-color);\n",
              "      border-bottom-color: var(--fill-color);\n",
              "    }\n",
              "    90% {\n",
              "      border-color: transparent;\n",
              "      border-bottom-color: var(--fill-color);\n",
              "    }\n",
              "  }\n",
              "</style>\n",
              "\n",
              "  <script>\n",
              "    async function quickchart(key) {\n",
              "      const quickchartButtonEl =\n",
              "        document.querySelector('#' + key + ' button');\n",
              "      quickchartButtonEl.disabled = true;  // To prevent multiple clicks.\n",
              "      quickchartButtonEl.classList.add('colab-df-spinner');\n",
              "      try {\n",
              "        const charts = await google.colab.kernel.invokeFunction(\n",
              "            'suggestCharts', [key], {});\n",
              "      } catch (error) {\n",
              "        console.error('Error during call to suggestCharts:', error);\n",
              "      }\n",
              "      quickchartButtonEl.classList.remove('colab-df-spinner');\n",
              "      quickchartButtonEl.classList.add('colab-df-quickchart-complete');\n",
              "    }\n",
              "    (() => {\n",
              "      let quickchartButtonEl =\n",
              "        document.querySelector('#df-09ffafb4-93a7-4507-87f6-d97dd1280d58 button');\n",
              "      quickchartButtonEl.style.display =\n",
              "        google.colab.kernel.accessAllowed ? 'block' : 'none';\n",
              "    })();\n",
              "  </script>\n",
              "</div>\n",
              "    </div>\n",
              "  </div>\n"
            ],
            "application/vnd.google.colaboratory.intrinsic+json": {
              "type": "dataframe",
              "variable_name": "df",
              "summary": "{\n  \"name\": \"df\",\n  \"rows\": 700,\n  \"fields\": [\n    {\n      \"column\": \"powLv1\",\n      \"properties\": {\n        \"dtype\": \"number\",\n        \"std\": 0.005318822856538589,\n        \"min\": 0.43802564,\n        \"max\": 0.465232658,\n        \"num_unique_values\": 300,\n        \"samples\": [\n          0.449600395,\n          0.454292589,\n          0.443080174\n        ],\n        \"semantic_type\": \"\",\n        \"description\": \"\"\n      }\n    },\n    {\n      \"column\": \"powLv2\",\n      \"properties\": {\n        \"dtype\": \"number\",\n        \"std\": 0.0010079143140425326,\n        \"min\": 0.218944621,\n        \"max\": 0.225528696,\n        \"num_unique_values\": 300,\n        \"samples\": [\n          0.221140745,\n          0.221831868,\n          0.219772065\n        ],\n        \"semantic_type\": \"\",\n        \"description\": \"\"\n      }\n    },\n    {\n      \"column\": \"powLv3\",\n      \"properties\": {\n        \"dtype\": \"number\",\n        \"std\": 0.0010471834732667313,\n        \"min\": 0.140002949,\n        \"max\": 0.145959568,\n        \"num_unique_values\": 300,\n        \"samples\": [\n          0.144106763,\n          0.142886767,\n          0.145205021\n        ],\n        \"semantic_type\": \"\",\n        \"description\": \"\"\n      }\n    },\n    {\n      \"column\": \"powLv4\",\n      \"properties\": {\n        \"dtype\": \"number\",\n        \"std\": 0.002236232211419879,\n        \"min\": 0.098109129,\n        \"max\": 0.109487294,\n        \"num_unique_values\": 300,\n        \"samples\": [\n          0.104930251,\n          0.102775479,\n          0.107465425\n        ],\n        \"semantic_type\": \"\",\n        \"description\": \"\"\n      }\n    },\n    {\n      \"column\": \"powLv5\",\n      \"properties\": {\n        \"dtype\": \"number\",\n        \"std\": 0.0030961807788752647,\n        \"min\": 0.07016903,\n        \"max\": 0.08756723,\n        \"num_unique_values\": 300,\n        \"samples\": [\n          0.080221846,\n          0.078213299,\n          0.084477315\n        ],\n        \"semantic_type\": \"\",\n        \"description\": \"\"\n      }\n    },\n    {\n      \"column\": \"kelas\",\n      \"properties\": {\n        \"dtype\": \"category\",\n        \"num_unique_values\": 3,\n        \"samples\": [\n          \"A\",\n          \"E\",\n          \"B\"\n        ],\n        \"semantic_type\": \"\",\n        \"description\": \"\"\n      }\n    }\n  ]\n}"
            }
          },
          "metadata": {},
          "execution_count": 8
        }
      ]
    },
    {
      "cell_type": "markdown",
      "source": [
        "## 1. Data Understanding"
      ],
      "metadata": {
        "id": "RNU4TT8zK4W-"
      }
    },
    {
      "cell_type": "code",
      "source": [
        "print(\"data shape : \", df.shape)"
      ],
      "metadata": {
        "colab": {
          "base_uri": "https://localhost:8080/"
        },
        "id": "h2z9pOoNLAXY",
        "outputId": "3d8ae1f9-de51-4dc7-a584-08d3449b56b4"
      },
      "execution_count": 9,
      "outputs": [
        {
          "output_type": "stream",
          "name": "stdout",
          "text": [
            "data shape :  (700, 6)\n"
          ]
        }
      ]
    },
    {
      "cell_type": "code",
      "source": [
        "df.describe()"
      ],
      "metadata": {
        "colab": {
          "base_uri": "https://localhost:8080/",
          "height": 300
        },
        "id": "HKkwadfkLZpR",
        "outputId": "8a0ec149-9b5e-4867-a7b3-026ad8454b07"
      },
      "execution_count": 10,
      "outputs": [
        {
          "output_type": "execute_result",
          "data": {
            "text/plain": [
              "           powLv1      powLv2      powLv3      powLv4      powLv5\n",
              "count  700.000000  700.000000  700.000000  700.000000  700.000000\n",
              "mean     0.448182    0.220864    0.144102    0.105245    0.081607\n",
              "std      0.005319    0.001008    0.001047    0.002236    0.003096\n",
              "min      0.438026    0.218945    0.140003    0.098109    0.070169\n",
              "25%      0.444452    0.220191    0.143452    0.103718    0.079350\n",
              "50%      0.447068    0.220675    0.144344    0.105705    0.082278\n",
              "75%      0.451886    0.221484    0.144854    0.106833    0.083615\n",
              "max      0.465233    0.225529    0.145960    0.109487    0.087567"
            ],
            "text/html": [
              "\n",
              "  <div id=\"df-3c858e15-0a8f-422d-86b4-58abe237327b\" class=\"colab-df-container\">\n",
              "    <div>\n",
              "<style scoped>\n",
              "    .dataframe tbody tr th:only-of-type {\n",
              "        vertical-align: middle;\n",
              "    }\n",
              "\n",
              "    .dataframe tbody tr th {\n",
              "        vertical-align: top;\n",
              "    }\n",
              "\n",
              "    .dataframe thead th {\n",
              "        text-align: right;\n",
              "    }\n",
              "</style>\n",
              "<table border=\"1\" class=\"dataframe\">\n",
              "  <thead>\n",
              "    <tr style=\"text-align: right;\">\n",
              "      <th></th>\n",
              "      <th>powLv1</th>\n",
              "      <th>powLv2</th>\n",
              "      <th>powLv3</th>\n",
              "      <th>powLv4</th>\n",
              "      <th>powLv5</th>\n",
              "    </tr>\n",
              "  </thead>\n",
              "  <tbody>\n",
              "    <tr>\n",
              "      <th>count</th>\n",
              "      <td>700.000000</td>\n",
              "      <td>700.000000</td>\n",
              "      <td>700.000000</td>\n",
              "      <td>700.000000</td>\n",
              "      <td>700.000000</td>\n",
              "    </tr>\n",
              "    <tr>\n",
              "      <th>mean</th>\n",
              "      <td>0.448182</td>\n",
              "      <td>0.220864</td>\n",
              "      <td>0.144102</td>\n",
              "      <td>0.105245</td>\n",
              "      <td>0.081607</td>\n",
              "    </tr>\n",
              "    <tr>\n",
              "      <th>std</th>\n",
              "      <td>0.005319</td>\n",
              "      <td>0.001008</td>\n",
              "      <td>0.001047</td>\n",
              "      <td>0.002236</td>\n",
              "      <td>0.003096</td>\n",
              "    </tr>\n",
              "    <tr>\n",
              "      <th>min</th>\n",
              "      <td>0.438026</td>\n",
              "      <td>0.218945</td>\n",
              "      <td>0.140003</td>\n",
              "      <td>0.098109</td>\n",
              "      <td>0.070169</td>\n",
              "    </tr>\n",
              "    <tr>\n",
              "      <th>25%</th>\n",
              "      <td>0.444452</td>\n",
              "      <td>0.220191</td>\n",
              "      <td>0.143452</td>\n",
              "      <td>0.103718</td>\n",
              "      <td>0.079350</td>\n",
              "    </tr>\n",
              "    <tr>\n",
              "      <th>50%</th>\n",
              "      <td>0.447068</td>\n",
              "      <td>0.220675</td>\n",
              "      <td>0.144344</td>\n",
              "      <td>0.105705</td>\n",
              "      <td>0.082278</td>\n",
              "    </tr>\n",
              "    <tr>\n",
              "      <th>75%</th>\n",
              "      <td>0.451886</td>\n",
              "      <td>0.221484</td>\n",
              "      <td>0.144854</td>\n",
              "      <td>0.106833</td>\n",
              "      <td>0.083615</td>\n",
              "    </tr>\n",
              "    <tr>\n",
              "      <th>max</th>\n",
              "      <td>0.465233</td>\n",
              "      <td>0.225529</td>\n",
              "      <td>0.145960</td>\n",
              "      <td>0.109487</td>\n",
              "      <td>0.087567</td>\n",
              "    </tr>\n",
              "  </tbody>\n",
              "</table>\n",
              "</div>\n",
              "    <div class=\"colab-df-buttons\">\n",
              "\n",
              "  <div class=\"colab-df-container\">\n",
              "    <button class=\"colab-df-convert\" onclick=\"convertToInteractive('df-3c858e15-0a8f-422d-86b4-58abe237327b')\"\n",
              "            title=\"Convert this dataframe to an interactive table.\"\n",
              "            style=\"display:none;\">\n",
              "\n",
              "  <svg xmlns=\"http://www.w3.org/2000/svg\" height=\"24px\" viewBox=\"0 -960 960 960\">\n",
              "    <path d=\"M120-120v-720h720v720H120Zm60-500h600v-160H180v160Zm220 220h160v-160H400v160Zm0 220h160v-160H400v160ZM180-400h160v-160H180v160Zm440 0h160v-160H620v160ZM180-180h160v-160H180v160Zm440 0h160v-160H620v160Z\"/>\n",
              "  </svg>\n",
              "    </button>\n",
              "\n",
              "  <style>\n",
              "    .colab-df-container {\n",
              "      display:flex;\n",
              "      gap: 12px;\n",
              "    }\n",
              "\n",
              "    .colab-df-convert {\n",
              "      background-color: #E8F0FE;\n",
              "      border: none;\n",
              "      border-radius: 50%;\n",
              "      cursor: pointer;\n",
              "      display: none;\n",
              "      fill: #1967D2;\n",
              "      height: 32px;\n",
              "      padding: 0 0 0 0;\n",
              "      width: 32px;\n",
              "    }\n",
              "\n",
              "    .colab-df-convert:hover {\n",
              "      background-color: #E2EBFA;\n",
              "      box-shadow: 0px 1px 2px rgba(60, 64, 67, 0.3), 0px 1px 3px 1px rgba(60, 64, 67, 0.15);\n",
              "      fill: #174EA6;\n",
              "    }\n",
              "\n",
              "    .colab-df-buttons div {\n",
              "      margin-bottom: 4px;\n",
              "    }\n",
              "\n",
              "    [theme=dark] .colab-df-convert {\n",
              "      background-color: #3B4455;\n",
              "      fill: #D2E3FC;\n",
              "    }\n",
              "\n",
              "    [theme=dark] .colab-df-convert:hover {\n",
              "      background-color: #434B5C;\n",
              "      box-shadow: 0px 1px 3px 1px rgba(0, 0, 0, 0.15);\n",
              "      filter: drop-shadow(0px 1px 2px rgba(0, 0, 0, 0.3));\n",
              "      fill: #FFFFFF;\n",
              "    }\n",
              "  </style>\n",
              "\n",
              "    <script>\n",
              "      const buttonEl =\n",
              "        document.querySelector('#df-3c858e15-0a8f-422d-86b4-58abe237327b button.colab-df-convert');\n",
              "      buttonEl.style.display =\n",
              "        google.colab.kernel.accessAllowed ? 'block' : 'none';\n",
              "\n",
              "      async function convertToInteractive(key) {\n",
              "        const element = document.querySelector('#df-3c858e15-0a8f-422d-86b4-58abe237327b');\n",
              "        const dataTable =\n",
              "          await google.colab.kernel.invokeFunction('convertToInteractive',\n",
              "                                                    [key], {});\n",
              "        if (!dataTable) return;\n",
              "\n",
              "        const docLinkHtml = 'Like what you see? Visit the ' +\n",
              "          '<a target=\"_blank\" href=https://colab.research.google.com/notebooks/data_table.ipynb>data table notebook</a>'\n",
              "          + ' to learn more about interactive tables.';\n",
              "        element.innerHTML = '';\n",
              "        dataTable['output_type'] = 'display_data';\n",
              "        await google.colab.output.renderOutput(dataTable, element);\n",
              "        const docLink = document.createElement('div');\n",
              "        docLink.innerHTML = docLinkHtml;\n",
              "        element.appendChild(docLink);\n",
              "      }\n",
              "    </script>\n",
              "  </div>\n",
              "\n",
              "\n",
              "<div id=\"df-155e33d8-32d7-4407-99bf-9f91afcc7999\">\n",
              "  <button class=\"colab-df-quickchart\" onclick=\"quickchart('df-155e33d8-32d7-4407-99bf-9f91afcc7999')\"\n",
              "            title=\"Suggest charts\"\n",
              "            style=\"display:none;\">\n",
              "\n",
              "<svg xmlns=\"http://www.w3.org/2000/svg\" height=\"24px\"viewBox=\"0 0 24 24\"\n",
              "     width=\"24px\">\n",
              "    <g>\n",
              "        <path d=\"M19 3H5c-1.1 0-2 .9-2 2v14c0 1.1.9 2 2 2h14c1.1 0 2-.9 2-2V5c0-1.1-.9-2-2-2zM9 17H7v-7h2v7zm4 0h-2V7h2v10zm4 0h-2v-4h2v4z\"/>\n",
              "    </g>\n",
              "</svg>\n",
              "  </button>\n",
              "\n",
              "<style>\n",
              "  .colab-df-quickchart {\n",
              "      --bg-color: #E8F0FE;\n",
              "      --fill-color: #1967D2;\n",
              "      --hover-bg-color: #E2EBFA;\n",
              "      --hover-fill-color: #174EA6;\n",
              "      --disabled-fill-color: #AAA;\n",
              "      --disabled-bg-color: #DDD;\n",
              "  }\n",
              "\n",
              "  [theme=dark] .colab-df-quickchart {\n",
              "      --bg-color: #3B4455;\n",
              "      --fill-color: #D2E3FC;\n",
              "      --hover-bg-color: #434B5C;\n",
              "      --hover-fill-color: #FFFFFF;\n",
              "      --disabled-bg-color: #3B4455;\n",
              "      --disabled-fill-color: #666;\n",
              "  }\n",
              "\n",
              "  .colab-df-quickchart {\n",
              "    background-color: var(--bg-color);\n",
              "    border: none;\n",
              "    border-radius: 50%;\n",
              "    cursor: pointer;\n",
              "    display: none;\n",
              "    fill: var(--fill-color);\n",
              "    height: 32px;\n",
              "    padding: 0;\n",
              "    width: 32px;\n",
              "  }\n",
              "\n",
              "  .colab-df-quickchart:hover {\n",
              "    background-color: var(--hover-bg-color);\n",
              "    box-shadow: 0 1px 2px rgba(60, 64, 67, 0.3), 0 1px 3px 1px rgba(60, 64, 67, 0.15);\n",
              "    fill: var(--button-hover-fill-color);\n",
              "  }\n",
              "\n",
              "  .colab-df-quickchart-complete:disabled,\n",
              "  .colab-df-quickchart-complete:disabled:hover {\n",
              "    background-color: var(--disabled-bg-color);\n",
              "    fill: var(--disabled-fill-color);\n",
              "    box-shadow: none;\n",
              "  }\n",
              "\n",
              "  .colab-df-spinner {\n",
              "    border: 2px solid var(--fill-color);\n",
              "    border-color: transparent;\n",
              "    border-bottom-color: var(--fill-color);\n",
              "    animation:\n",
              "      spin 1s steps(1) infinite;\n",
              "  }\n",
              "\n",
              "  @keyframes spin {\n",
              "    0% {\n",
              "      border-color: transparent;\n",
              "      border-bottom-color: var(--fill-color);\n",
              "      border-left-color: var(--fill-color);\n",
              "    }\n",
              "    20% {\n",
              "      border-color: transparent;\n",
              "      border-left-color: var(--fill-color);\n",
              "      border-top-color: var(--fill-color);\n",
              "    }\n",
              "    30% {\n",
              "      border-color: transparent;\n",
              "      border-left-color: var(--fill-color);\n",
              "      border-top-color: var(--fill-color);\n",
              "      border-right-color: var(--fill-color);\n",
              "    }\n",
              "    40% {\n",
              "      border-color: transparent;\n",
              "      border-right-color: var(--fill-color);\n",
              "      border-top-color: var(--fill-color);\n",
              "    }\n",
              "    60% {\n",
              "      border-color: transparent;\n",
              "      border-right-color: var(--fill-color);\n",
              "    }\n",
              "    80% {\n",
              "      border-color: transparent;\n",
              "      border-right-color: var(--fill-color);\n",
              "      border-bottom-color: var(--fill-color);\n",
              "    }\n",
              "    90% {\n",
              "      border-color: transparent;\n",
              "      border-bottom-color: var(--fill-color);\n",
              "    }\n",
              "  }\n",
              "</style>\n",
              "\n",
              "  <script>\n",
              "    async function quickchart(key) {\n",
              "      const quickchartButtonEl =\n",
              "        document.querySelector('#' + key + ' button');\n",
              "      quickchartButtonEl.disabled = true;  // To prevent multiple clicks.\n",
              "      quickchartButtonEl.classList.add('colab-df-spinner');\n",
              "      try {\n",
              "        const charts = await google.colab.kernel.invokeFunction(\n",
              "            'suggestCharts', [key], {});\n",
              "      } catch (error) {\n",
              "        console.error('Error during call to suggestCharts:', error);\n",
              "      }\n",
              "      quickchartButtonEl.classList.remove('colab-df-spinner');\n",
              "      quickchartButtonEl.classList.add('colab-df-quickchart-complete');\n",
              "    }\n",
              "    (() => {\n",
              "      let quickchartButtonEl =\n",
              "        document.querySelector('#df-155e33d8-32d7-4407-99bf-9f91afcc7999 button');\n",
              "      quickchartButtonEl.style.display =\n",
              "        google.colab.kernel.accessAllowed ? 'block' : 'none';\n",
              "    })();\n",
              "  </script>\n",
              "</div>\n",
              "    </div>\n",
              "  </div>\n"
            ],
            "application/vnd.google.colaboratory.intrinsic+json": {
              "type": "dataframe",
              "summary": "{\n  \"name\": \"df\",\n  \"rows\": 8,\n  \"fields\": [\n    {\n      \"column\": \"powLv1\",\n      \"properties\": {\n        \"dtype\": \"number\",\n        \"std\": 247.35104343927912,\n        \"min\": 0.005318822856538589,\n        \"max\": 700.0,\n        \"num_unique_values\": 8,\n        \"samples\": [\n          0.4481815458628572,\n          0.447067597,\n          700.0\n        ],\n        \"semantic_type\": \"\",\n        \"description\": \"\"\n      }\n    },\n    {\n      \"column\": \"powLv2\",\n      \"properties\": {\n        \"dtype\": \"number\",\n        \"std\": 247.42027617221794,\n        \"min\": 0.0010079143140425326,\n        \"max\": 700.0,\n        \"num_unique_values\": 8,\n        \"samples\": [\n          0.22086401991285715,\n          0.22067526250000002,\n          700.0\n        ],\n        \"semantic_type\": \"\",\n        \"description\": \"\"\n      }\n    },\n    {\n      \"column\": \"powLv3\",\n      \"properties\": {\n        \"dtype\": \"number\",\n        \"std\": 247.4437518974832,\n        \"min\": 0.0010471834732667313,\n        \"max\": 700.0,\n        \"num_unique_values\": 8,\n        \"samples\": [\n          0.14410237829714287,\n          0.144343957,\n          700.0\n        ],\n        \"semantic_type\": \"\",\n        \"description\": \"\"\n      }\n    },\n    {\n      \"column\": \"powLv4\",\n      \"properties\": {\n        \"dtype\": \"number\",\n        \"std\": 247.45548892309023,\n        \"min\": 0.002236232211419879,\n        \"max\": 700.0,\n        \"num_unique_values\": 8,\n        \"samples\": [\n          0.10524490723285714,\n          0.105705115,\n          700.0\n        ],\n        \"semantic_type\": \"\",\n        \"description\": \"\"\n      }\n    },\n    {\n      \"column\": \"powLv5\",\n      \"properties\": {\n        \"dtype\": \"number\",\n        \"std\": 247.4627432733036,\n        \"min\": 0.0030961807788752647,\n        \"max\": 700.0,\n        \"num_unique_values\": 8,\n        \"samples\": [\n          0.08160714872714286,\n          0.082277904,\n          700.0\n        ],\n        \"semantic_type\": \"\",\n        \"description\": \"\"\n      }\n    }\n  ]\n}"
            }
          },
          "metadata": {},
          "execution_count": 10
        }
      ]
    },
    {
      "cell_type": "code",
      "source": [
        "df.info()"
      ],
      "metadata": {
        "colab": {
          "base_uri": "https://localhost:8080/"
        },
        "id": "Rzn7kAQILdiP",
        "outputId": "bda41de9-b7ac-4834-c60e-fe0e368b9932"
      },
      "execution_count": 11,
      "outputs": [
        {
          "output_type": "stream",
          "name": "stdout",
          "text": [
            "<class 'pandas.core.frame.DataFrame'>\n",
            "RangeIndex: 700 entries, 0 to 699\n",
            "Data columns (total 6 columns):\n",
            " #   Column  Non-Null Count  Dtype  \n",
            "---  ------  --------------  -----  \n",
            " 0   powLv1  700 non-null    float64\n",
            " 1   powLv2  700 non-null    float64\n",
            " 2   powLv3  700 non-null    float64\n",
            " 3   powLv4  700 non-null    float64\n",
            " 4   powLv5  700 non-null    float64\n",
            " 5   kelas   700 non-null    object \n",
            "dtypes: float64(5), object(1)\n",
            "memory usage: 32.9+ KB\n"
          ]
        }
      ]
    },
    {
      "cell_type": "markdown",
      "source": [
        "## 2. cleaning data"
      ],
      "metadata": {
        "id": "VxjyGe90MA47"
      }
    },
    {
      "cell_type": "code",
      "source": [
        "df.isnull().sum()"
      ],
      "metadata": {
        "colab": {
          "base_uri": "https://localhost:8080/"
        },
        "id": "3KZMzBV9MFRP",
        "outputId": "e78eae6d-684f-48d9-94d8-a4e468d7d237"
      },
      "execution_count": 12,
      "outputs": [
        {
          "output_type": "execute_result",
          "data": {
            "text/plain": [
              "powLv1    0\n",
              "powLv2    0\n",
              "powLv3    0\n",
              "powLv4    0\n",
              "powLv5    0\n",
              "kelas     0\n",
              "dtype: int64"
            ]
          },
          "metadata": {},
          "execution_count": 12
        }
      ]
    },
    {
      "cell_type": "code",
      "source": [
        "df.duplicated().sum()"
      ],
      "metadata": {
        "colab": {
          "base_uri": "https://localhost:8080/"
        },
        "id": "aRU7ehe5MJ9g",
        "outputId": "9110755d-3bcb-479a-c950-57acd47a5b32"
      },
      "execution_count": 13,
      "outputs": [
        {
          "output_type": "execute_result",
          "data": {
            "text/plain": [
              "300"
            ]
          },
          "metadata": {},
          "execution_count": 13
        }
      ]
    },
    {
      "cell_type": "code",
      "source": [
        "df_clean = df.drop_duplicates()\n",
        "print(df_clean)"
      ],
      "metadata": {
        "colab": {
          "base_uri": "https://localhost:8080/"
        },
        "id": "RlSNJN3qPC8p",
        "outputId": "861bdf80-1a36-459b-ca90-dfb3909f21f1"
      },
      "execution_count": 15,
      "outputs": [
        {
          "output_type": "stream",
          "name": "stdout",
          "text": [
            "       powLv1    powLv2    powLv3    powLv4    powLv5 kelas\n",
            "0    0.446692  0.220117  0.144672  0.106003  0.082516     A\n",
            "1    0.442455  0.219658  0.145039  0.107494  0.085354     A\n",
            "2    0.446993  0.220535  0.144443  0.105565  0.082465     A\n",
            "3    0.457090  0.221898  0.141954  0.101666  0.077392     A\n",
            "4    0.447407  0.220674  0.143812  0.105975  0.082134     A\n",
            "..        ...       ...       ...       ...       ...   ...\n",
            "595  0.445821  0.220518  0.144655  0.105942  0.083065     A\n",
            "596  0.452675  0.221822  0.143071  0.103288  0.079144     A\n",
            "597  0.441498  0.219512  0.145343  0.108001  0.085647     A\n",
            "598  0.450119  0.221511  0.143497  0.104316  0.080557     A\n",
            "599  0.453372  0.222628  0.143082  0.102873  0.078045     A\n",
            "\n",
            "[400 rows x 6 columns]\n"
          ]
        }
      ]
    },
    {
      "cell_type": "code",
      "source": [
        "df_clean.info()"
      ],
      "metadata": {
        "colab": {
          "base_uri": "https://localhost:8080/"
        },
        "id": "J3SohzEZx7eu",
        "outputId": "6a62db5e-ab83-4aae-ab24-12eb6a006e20"
      },
      "execution_count": 81,
      "outputs": [
        {
          "output_type": "stream",
          "name": "stdout",
          "text": [
            "<class 'pandas.core.frame.DataFrame'>\n",
            "Index: 400 entries, 0 to 599\n",
            "Data columns (total 6 columns):\n",
            " #   Column  Non-Null Count  Dtype  \n",
            "---  ------  --------------  -----  \n",
            " 0   powLv1  400 non-null    float64\n",
            " 1   powLv2  400 non-null    float64\n",
            " 2   powLv3  400 non-null    float64\n",
            " 3   powLv4  400 non-null    float64\n",
            " 4   powLv5  400 non-null    float64\n",
            " 5   kelas   400 non-null    object \n",
            "dtypes: float64(5), object(1)\n",
            "memory usage: 21.9+ KB\n"
          ]
        }
      ]
    },
    {
      "cell_type": "markdown",
      "source": [
        "## 3.EDA"
      ],
      "metadata": {
        "id": "n1cYYiaiQXvW"
      }
    },
    {
      "cell_type": "code",
      "source": [
        "sns.set_theme(style='ticks')\n",
        "sns.countplot(y='kelas', data=df, palette='flare')\n",
        "plt.ylabel(\"Kelas\")\n",
        "plt.xlabel('Total / Jumlah')\n",
        "plt.show()"
      ],
      "metadata": {
        "colab": {
          "base_uri": "https://localhost:8080/",
          "height": 565
        },
        "id": "PDBKs1N7PvN2",
        "outputId": "f204287b-41c3-4625-cacc-928395644d3b"
      },
      "execution_count": 76,
      "outputs": [
        {
          "output_type": "stream",
          "name": "stderr",
          "text": [
            "<ipython-input-76-e26097585027>:2: FutureWarning: \n",
            "\n",
            "Passing `palette` without assigning `hue` is deprecated and will be removed in v0.14.0. Assign the `y` variable to `hue` and set `legend=False` for the same effect.\n",
            "\n",
            "  sns.countplot(y='kelas', data=df, palette='flare')\n"
          ]
        },
        {
          "output_type": "display_data",
          "data": {
            "text/plain": [
              "<Figure size 640x480 with 1 Axes>"
            ],
            "image/png": "[encoded data removed]"
          },
          "metadata": {}
        }
      ]
    },
    {
      "cell_type": "markdown",
      "source": [
        "## 4. Data Preparation"
      ],
      "metadata": {
        "id": "F0G7fbqVTpsQ"
      }
    },
    {
      "cell_type": "code",
      "source": [
        "X = df.drop(columns = ['kelas'])\n",
        "y = df['kelas']\n",
        "\n",
        "print(\"X : \", X.shape)\n",
        "print(\"y : \", y.shape)"
      ],
      "metadata": {
        "colab": {
          "base_uri": "https://localhost:8080/"
        },
        "id": "yxqvuzvsTpTQ",
        "outputId": "3c582271-db5e-4f3a-d7f8-ff7562051755"
      },
      "execution_count": 77,
      "outputs": [
        {
          "output_type": "stream",
          "name": "stdout",
          "text": [
            "X :  (700, 5)\n",
            "y :  (700,)\n"
          ]
        }
      ]
    },
    {
      "cell_type": "markdown",
      "source": [
        "10 Fold CV"
      ],
      "metadata": {
        "id": "6aDIw1qNlsQu"
      }
    },
    {
      "cell_type": "code",
      "source": [
        "from sklearn.model_selection import cross_val_score\n",
        "from sklearn import svm, datasets\n",
        "\n",
        "# persiapkan data\n",
        "X = df.drop(columns = ['kelas'])\n",
        "y = df['kelas']\n",
        "\n",
        "#  Inisialisasi model klasifikasi\n",
        "svm_classifier = svm.SVC(kernel='linear', C=1)\n",
        "\n",
        "#Cross-validation dengan 10 fold\n",
        "cv_scores = cross_val_score(svm_classifier, X, y, cv=10)\n",
        "\n",
        " #Evaluasi hasil\n",
        "print(\"Cross-validation Scores:\", cv_scores)\n",
        "print(\"Mean CV Score:\", cv_scores.mean())"
      ],
      "metadata": {
        "colab": {
          "base_uri": "https://localhost:8080/"
        },
        "id": "1606hUcJV64v",
        "outputId": "96c57527-7b7b-4fdb-e6ae-ff73ba9afad7"
      },
      "execution_count": 70,
      "outputs": [
        {
          "output_type": "stream",
          "name": "stdout",
          "text": [
            "Cross-validation Scores: [0.4        0.47142857 0.44285714 0.4        0.45714286 0.48571429\n",
            " 0.42857143 0.6        0.54285714 0.67142857]\n",
            "Mean CV Score: 0.49000000000000005\n"
          ]
        }
      ]
    },
    {
      "cell_type": "markdown",
      "source": [
        "75% Training 25 % Testing"
      ],
      "metadata": {
        "id": "tiaRik9-lyB-"
      }
    },
    {
      "cell_type": "code",
      "source": [
        "from sklearn.model_selection import train_test_split\n",
        "X = df.drop(columns = ['kelas'])\n",
        "y = df['kelas']\n",
        "x_train, x_test, y_train, y_test = train_test_split(X, y, test_size = 0.75)"
      ],
      "metadata": {
        "id": "PGEPCssBY2Es"
      },
      "execution_count": 71,
      "outputs": []
    },
    {
      "cell_type": "code",
      "source": [
        "print(f\"x_train : {x_train.shape}\")\n",
        "print(f\"y_train : {y_train.shape}\")\n",
        "print(f\"x_test : {x_test.shape}\")\n",
        "print(f\"y_test : {y_test.shape}\")"
      ],
      "metadata": {
        "colab": {
          "base_uri": "https://localhost:8080/"
        },
        "id": "dLGWFMV9j0gE",
        "outputId": "1876b398-f592-4e3c-f59c-08719b7770da"
      },
      "execution_count": 72,
      "outputs": [
        {
          "output_type": "stream",
          "name": "stdout",
          "text": [
            "x_train : (175, 5)\n",
            "y_train : (175,)\n",
            "x_test : (525, 5)\n",
            "y_test : (525,)\n"
          ]
        }
      ]
    },
    {
      "cell_type": "markdown",
      "source": [
        "50% Training 25 % validation 25% testing"
      ],
      "metadata": {
        "id": "r7Y0ov5SmVEC"
      }
    },
    {
      "cell_type": "code",
      "source": [
        "from sklearn.model_selection import train_test_split\n",
        "from sklearn import svm, datasets\n",
        "X = df.drop(columns = ['kelas'])\n",
        "y = df['kelas']\n",
        "\n",
        "# Bagi data menjadi 50% pelatihan, 25% validasi, dan 25% pengujian\n",
        "X_train_val, X_test, y_train_val, y_test = train_test_split(X, y, test_size=0.25, random_state=42)\n",
        "X_train, X_val, y_train, y_val = train_test_split(X_train_val, y_train_val, test_size=0.33, random_state=42)\n",
        "\n",
        "#  Inisialisasi dan latih model\n",
        "svm_classifier = svm.SVC(kernel='linear', C=1)\n",
        "svm_classifier.fit(X_train, y_train)\n",
        "\n",
        "# Step 4: Validasi model\n",
        "accuracy_val = svm_classifier.score(X_val, y_val)\n",
        "print(\"Validation Accuracy:\", accuracy_val)\n",
        "\n",
        "# Step 5: Evaluasi model\n",
        "accuracy_test = svm_classifier.score(X_test, y_test)\n",
        "print(\"Test Accuracy:\", accuracy_test)"
      ],
      "metadata": {
        "colab": {
          "base_uri": "https://localhost:8080/"
        },
        "id": "oUfC3ZRimUaz",
        "outputId": "5e7e4bbd-50ed-4240-c052-d22482bb0ed9"
      },
      "execution_count": 74,
      "outputs": [
        {
          "output_type": "stream",
          "name": "stdout",
          "text": [
            "Validation Accuracy: 0.41379310344827586\n",
            "Test Accuracy: 0.4\n"
          ]
        }
      ]
    },
    {
      "cell_type": "markdown",
      "source": [
        "## 5. Modeling"
      ],
      "metadata": {
        "id": "Dtn5TW5inCbm"
      }
    },
    {
      "cell_type": "code",
      "source": [
        "from sklearn import svm\n",
        "from sklearn.model_selection import train_test_split\n",
        "from sklearn.metrics import accuracy_score, classification_report\n",
        "\n",
        "# Step 4: Latih model\n",
        "svm_classifier.fit(X_train, y_train)\n",
        "\n",
        "# Step 5: Prediksi\n",
        "y_pred = svm_classifier.predict(X_test)\n",
        "\n",
        "accuracy = accuracy_score(y_test, y_pred)\n",
        "print(\"Accuracy:\", accuracy)\n",
        "\n",
        "# Menampilkan laporan klasifikasi\n",
        "print(classification_report(y_test, y_pred))\n"
      ],
      "metadata": {
        "colab": {
          "base_uri": "https://localhost:8080/"
        },
        "id": "FAMHF9N2nIkt",
        "outputId": "5532b567-e979-4dc6-fdc3-bfda8f353a3c"
      },
      "execution_count": 78,
      "outputs": [
        {
          "output_type": "stream",
          "name": "stdout",
          "text": [
            "Accuracy: 0.4\n",
            "              precision    recall  f1-score   support\n",
            "\n",
            "           A       0.40      1.00      0.57        70\n",
            "           B       0.00      0.00      0.00        30\n",
            "           E       0.00      0.00      0.00        75\n",
            "\n",
            "    accuracy                           0.40       175\n",
            "   macro avg       0.13      0.33      0.19       175\n",
            "weighted avg       0.16      0.40      0.23       175\n",
            "\n"
          ]
        },
        {
          "output_type": "stream",
          "name": "stderr",
          "text": [
            "/usr/local/lib/python3.10/dist-packages/sklearn/metrics/_classification.py:1344: UndefinedMetricWarning: Precision and F-score are ill-defined and being set to 0.0 in labels with no predicted samples. Use `zero_division` parameter to control this behavior.\n",
            "  _warn_prf(average, modifier, msg_start, len(result))\n",
            "/usr/local/lib/python3.10/dist-packages/sklearn/metrics/_classification.py:1344: UndefinedMetricWarning: Precision and F-score are ill-defined and being set to 0.0 in labels with no predicted samples. Use `zero_division` parameter to control this behavior.\n",
            "  _warn_prf(average, modifier, msg_start, len(result))\n",
            "/usr/local/lib/python3.10/dist-packages/sklearn/metrics/_classification.py:1344: UndefinedMetricWarning: Precision and F-score are ill-defined and being set to 0.0 in labels with no predicted samples. Use `zero_division` parameter to control this behavior.\n",
            "  _warn_prf(average, modifier, msg_start, len(result))\n"
          ]
        }
      ]
    },
    {
      "cell_type": "code",
      "source": [
        "testing = {'powLv1': [0.44855765265335],\n",
        "        'powLv2': [0.221160624523941],\n",
        "        'powLv3': [0.144024084911463],\n",
        "        'powLv4': [\n",
        "0.104778268223044],\n",
        "        'powLv5': [0.0814793696882007]}\n",
        "\n",
        "testing = pd.DataFrame(testing)\n",
        "testing"
      ],
      "metadata": {
        "colab": {
          "base_uri": "https://localhost:8080/",
          "height": 80
        },
        "id": "64CQnYlzu8So",
        "outputId": "42255af6-508e-4e34-dc3f-dc7cf186bf62"
      },
      "execution_count": 79,
      "outputs": [
        {
          "output_type": "execute_result",
          "data": {
            "text/plain": [
              "     powLv1    powLv2    powLv3    powLv4    powLv5\n",
              "0  0.448558  0.221161  0.144024  0.104778  0.081479"
            ],
            "text/html": [
              "\n",
              "  <div id=\"df-7ca66975-7ebd-4f0e-b373-bebd861c63e9\" class=\"colab-df-container\">\n",
              "    <div>\n",
              "<style scoped>\n",
              "    .dataframe tbody tr th:only-of-type {\n",
              "        vertical-align: middle;\n",
              "    }\n",
              "\n",
              "    .dataframe tbody tr th {\n",
              "        vertical-align: top;\n",
              "    }\n",
              "\n",
              "    .dataframe thead th {\n",
              "        text-align: right;\n",
              "    }\n",
              "</style>\n",
              "<table border=\"1\" class=\"dataframe\">\n",
              "  <thead>\n",
              "    <tr style=\"text-align: right;\">\n",
              "      <th></th>\n",
              "      <th>powLv1</th>\n",
              "      <th>powLv2</th>\n",
              "      <th>powLv3</th>\n",
              "      <th>powLv4</th>\n",
              "      <th>powLv5</th>\n",
              "    </tr>\n",
              "  </thead>\n",
              "  <tbody>\n",
              "    <tr>\n",
              "      <th>0</th>\n",
              "      <td>0.448558</td>\n",
              "      <td>0.221161</td>\n",
              "      <td>0.144024</td>\n",
              "      <td>0.104778</td>\n",
              "      <td>0.081479</td>\n",
              "    </tr>\n",
              "  </tbody>\n",
              "</table>\n",
              "</div>\n",
              "    <div class=\"colab-df-buttons\">\n",
              "\n",
              "  <div class=\"colab-df-container\">\n",
              "    <button class=\"colab-df-convert\" onclick=\"convertToInteractive('df-7ca66975-7ebd-4f0e-b373-bebd861c63e9')\"\n",
              "            title=\"Convert this dataframe to an interactive table.\"\n",
              "            style=\"display:none;\">\n",
              "\n",
              "  <svg xmlns=\"http://www.w3.org/2000/svg\" height=\"24px\" viewBox=\"0 -960 960 960\">\n",
              "    <path d=\"M120-120v-720h720v720H120Zm60-500h600v-160H180v160Zm220 220h160v-160H400v160Zm0 220h160v-160H400v160ZM180-400h160v-160H180v160Zm440 0h160v-160H620v160ZM180-180h160v-160H180v160Zm440 0h160v-160H620v160Z\"/>\n",
              "  </svg>\n",
              "    </button>\n",
              "\n",
              "  <style>\n",
              "    .colab-df-container {\n",
              "      display:flex;\n",
              "      gap: 12px;\n",
              "    }\n",
              "\n",
              "    .colab-df-convert {\n",
              "      background-color: #E8F0FE;\n",
              "      border: none;\n",
              "      border-radius: 50%;\n",
              "      cursor: pointer;\n",
              "      display: none;\n",
              "      fill: #1967D2;\n",
              "      height: 32px;\n",
              "      padding: 0 0 0 0;\n",
              "      width: 32px;\n",
              "    }\n",
              "\n",
              "    .colab-df-convert:hover {\n",
              "      background-color: #E2EBFA;\n",
              "      box-shadow: 0px 1px 2px rgba(60, 64, 67, 0.3), 0px 1px 3px 1px rgba(60, 64, 67, 0.15);\n",
              "      fill: #174EA6;\n",
              "    }\n",
              "\n",
              "    .colab-df-buttons div {\n",
              "      margin-bottom: 4px;\n",
              "    }\n",
              "\n",
              "    [theme=dark] .colab-df-convert {\n",
              "      background-color: #3B4455;\n",
              "      fill: #D2E3FC;\n",
              "    }\n",
              "\n",
              "    [theme=dark] .colab-df-convert:hover {\n",
              "      background-color: #434B5C;\n",
              "      box-shadow: 0px 1px 3px 1px rgba(0, 0, 0, 0.15);\n",
              "      filter: drop-shadow(0px 1px 2px rgba(0, 0, 0, 0.3));\n",
              "      fill: #FFFFFF;\n",
              "    }\n",
              "  </style>\n",
              "\n",
              "    <script>\n",
              "      const buttonEl =\n",
              "        document.querySelector('#df-7ca66975-7ebd-4f0e-b373-bebd861c63e9 button.colab-df-convert');\n",
              "      buttonEl.style.display =\n",
              "        google.colab.kernel.accessAllowed ? 'block' : 'none';\n",
              "\n",
              "      async function convertToInteractive(key) {\n",
              "        const element = document.querySelector('#df-7ca66975-7ebd-4f0e-b373-bebd861c63e9');\n",
              "        const dataTable =\n",
              "          await google.colab.kernel.invokeFunction('convertToInteractive',\n",
              "                                                    [key], {});\n",
              "        if (!dataTable) return;\n",
              "\n",
              "        const docLinkHtml = 'Like what you see? Visit the ' +\n",
              "          '<a target=\"_blank\" href=https://colab.research.google.com/notebooks/data_table.ipynb>data table notebook</a>'\n",
              "          + ' to learn more about interactive tables.';\n",
              "        element.innerHTML = '';\n",
              "        dataTable['output_type'] = 'display_data';\n",
              "        await google.colab.output.renderOutput(dataTable, element);\n",
              "        const docLink = document.createElement('div');\n",
              "        docLink.innerHTML = docLinkHtml;\n",
              "        element.appendChild(docLink);\n",
              "      }\n",
              "    </script>\n",
              "  </div>\n",
              "\n",
              "    </div>\n",
              "  </div>\n"
            ],
            "application/vnd.google.colaboratory.intrinsic+json": {
              "type": "dataframe",
              "variable_name": "testing",
              "summary": "{\n  \"name\": \"testing\",\n  \"rows\": 1,\n  \"fields\": [\n    {\n      \"column\": \"powLv1\",\n      \"properties\": {\n        \"dtype\": \"number\",\n        \"std\": null,\n        \"min\": 0.44855765265335,\n        \"max\": 0.44855765265335,\n        \"num_unique_values\": 1,\n        \"samples\": [\n          0.44855765265335\n        ],\n        \"semantic_type\": \"\",\n        \"description\": \"\"\n      }\n    },\n    {\n      \"column\": \"powLv2\",\n      \"properties\": {\n        \"dtype\": \"number\",\n        \"std\": null,\n        \"min\": 0.221160624523941,\n        \"max\": 0.221160624523941,\n        \"num_unique_values\": 1,\n        \"samples\": [\n          0.221160624523941\n        ],\n        \"semantic_type\": \"\",\n        \"description\": \"\"\n      }\n    },\n    {\n      \"column\": \"powLv3\",\n      \"properties\": {\n        \"dtype\": \"number\",\n        \"std\": null,\n        \"min\": 0.144024084911463,\n        \"max\": 0.144024084911463,\n        \"num_unique_values\": 1,\n        \"samples\": [\n          0.144024084911463\n        ],\n        \"semantic_type\": \"\",\n        \"description\": \"\"\n      }\n    },\n    {\n      \"column\": \"powLv4\",\n      \"properties\": {\n        \"dtype\": \"number\",\n        \"std\": null,\n        \"min\": 0.104778268223044,\n        \"max\": 0.104778268223044,\n        \"num_unique_values\": 1,\n        \"samples\": [\n          0.104778268223044\n        ],\n        \"semantic_type\": \"\",\n        \"description\": \"\"\n      }\n    },\n    {\n      \"column\": \"powLv5\",\n      \"properties\": {\n        \"dtype\": \"number\",\n        \"std\": null,\n        \"min\": 0.0814793696882007,\n        \"max\": 0.0814793696882007,\n        \"num_unique_values\": 1,\n        \"samples\": [\n          0.0814793696882007\n        ],\n        \"semantic_type\": \"\",\n        \"description\": \"\"\n      }\n    }\n  ]\n}"
            }
          },
          "metadata": {},
          "execution_count": 79
        }
      ]
    },
    {
      "cell_type": "code",
      "source": [
        "pred_coba = svm_classifier.predict(testing)\n",
        "print(\"Hasil Prediksi kelas\")\n",
        "print(pred_coba)"
      ],
      "metadata": {
        "colab": {
          "base_uri": "https://localhost:8080/"
        },
        "id": "HHujr7ASviAi",
        "outputId": "3d2466ec-c413-43c9-e4e4-1a123627fb3a"
      },
      "execution_count": 82,
      "outputs": [
        {
          "output_type": "stream",
          "name": "stdout",
          "text": [
            "Hasil Prediksi kelas\n",
            "['A']\n"
          ]
        }
      ]
    }
  ]
}